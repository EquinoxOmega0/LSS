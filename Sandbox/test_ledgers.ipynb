{
 "cells": [
  {
   "cell_type": "code",
   "execution_count": 56,
   "metadata": {},
   "outputs": [],
   "source": [
    "import desitarget.io\n",
    "import desitarget.mtl\n",
    "import desimodel.io\n",
    "import fitsio\n",
    "import sys\n",
    "import os\n",
    "from astropy.table import Table,vstack,unique,join\n",
    "import numpy as np\n",
    "import desisim.quickcat\n",
    "import glob\n",
    "from matplotlib import pyplot as plt"
   ]
  },
  {
   "cell_type": "code",
   "execution_count": 44,
   "metadata": {},
   "outputs": [],
   "source": [
    "runs = [0,1,2,3]\n",
    "ldir = os.environ['CSCRATCH']+'/testledgers/dr9/0.50.0.dev4501/mtl/main/dark/'"
   ]
  },
  {
   "cell_type": "code",
   "execution_count": 14,
   "metadata": {},
   "outputs": [],
   "source": [
    "if not os.path.exists(os.environ['CSCRATCH']+'/testledgers/fiberassign'):\n",
    "    os.mkdir(os.environ['CSCRATCH']+'/testledgers/fiberassign')"
   ]
  },
  {
   "cell_type": "code",
   "execution_count": 45,
   "metadata": {},
   "outputs": [
    {
     "name": "stdout",
     "output_type": "stream",
     "text": [
      "found 678179 targets\n",
      "fba_run --targets /global/cscratch1/sd/ajross/testledgers/darktar0.fits --sky /global/cscratch1/sd/ajross/testledgers/skies.fits --footprint /global/cfs/cdirs/desi/datachallenge/onepercent/catalogs/dark/e2etiles_run0.fits  --dir /global/cscratch1/sd/ajross/testledgers/fiberassign/0 --rundate 2020-01-01T00:00:00 --overwrite\n",
      "INFO:quickcat.py:592:quickcat: Mon Feb 22 14:23:51 2021 QC Reading 39 tiles\n",
      "INFO:quickcat.py:636:quickcat: Mon Feb 22 14:23:51 2021 QC Trimming truth to just observed targets\n",
      "INFO:quickcat.py:643:quickcat: Mon Feb 22 14:23:52 2021 QC Constructing new redshift catalog\n",
      "INFO:quickcat.py:655:quickcat: Mon Feb 22 14:23:52 2021 QC Adding ZERR and ZWARN\n",
      "INFO:quickcat.py:673:quickcat: Mon Feb 22 14:23:52 2021 QC Adding NUMOBS column\n",
      "INFO:quickcat.py:679:quickcat: Mon Feb 22 14:23:52 2021 QC Merging previous zcat\n",
      "INFO:quickcat.py:726:quickcat: Mon Feb 22 14:23:52 2021 QC done\n",
      "run 0 done\n",
      "the zcat contains this many entries: 169756\n",
      "found 111604 targets\n",
      "fba_run --targets /global/cscratch1/sd/ajross/testledgers/darktar1.fits --sky /global/cscratch1/sd/ajross/testledgers/skies.fits --footprint /global/cfs/cdirs/desi/datachallenge/onepercent/catalogs/dark/e2etiles_run1.fits  --dir /global/cscratch1/sd/ajross/testledgers/fiberassign/1 --rundate 2020-01-01T00:00:00 --overwrite\n",
      "INFO:quickcat.py:592:quickcat: Mon Feb 22 14:24:59 2021 QC Reading 4 tiles\n",
      "INFO:quickcat.py:636:quickcat: Mon Feb 22 14:24:59 2021 QC Trimming truth to just observed targets\n",
      "INFO:quickcat.py:643:quickcat: Mon Feb 22 14:24:59 2021 QC Constructing new redshift catalog\n",
      "INFO:quickcat.py:655:quickcat: Mon Feb 22 14:24:59 2021 QC Adding ZERR and ZWARN\n",
      "INFO:quickcat.py:673:quickcat: Mon Feb 22 14:24:59 2021 QC Adding NUMOBS column\n",
      "INFO:quickcat.py:679:quickcat: Mon Feb 22 14:25:00 2021 QC Merging previous zcat\n",
      "INFO:quickcat.py:726:quickcat: Mon Feb 22 14:25:00 2021 QC done\n",
      "run 1 done\n",
      "the zcat contains this many entries: 178774\n",
      "found 62067 targets\n",
      "fba_run --targets /global/cscratch1/sd/ajross/testledgers/darktar2.fits --sky /global/cscratch1/sd/ajross/testledgers/skies.fits --footprint /global/cfs/cdirs/desi/datachallenge/onepercent/catalogs/dark/e2etiles_run2.fits  --dir /global/cscratch1/sd/ajross/testledgers/fiberassign/2 --rundate 2020-01-01T00:00:00 --overwrite\n",
      "INFO:quickcat.py:592:quickcat: Mon Feb 22 14:25:41 2021 QC Reading 3 tiles\n",
      "INFO:quickcat.py:636:quickcat: Mon Feb 22 14:25:41 2021 QC Trimming truth to just observed targets\n",
      "INFO:quickcat.py:643:quickcat: Mon Feb 22 14:25:42 2021 QC Constructing new redshift catalog\n",
      "INFO:quickcat.py:655:quickcat: Mon Feb 22 14:25:42 2021 QC Adding ZERR and ZWARN\n",
      "INFO:quickcat.py:673:quickcat: Mon Feb 22 14:25:42 2021 QC Adding NUMOBS column\n",
      "INFO:quickcat.py:679:quickcat: Mon Feb 22 14:25:42 2021 QC Merging previous zcat\n",
      "INFO:quickcat.py:726:quickcat: Mon Feb 22 14:25:42 2021 QC done\n",
      "run 2 done\n",
      "the zcat contains this many entries: 182341\n",
      "found 117338 targets\n",
      "fba_run --targets /global/cscratch1/sd/ajross/testledgers/darktar3.fits --sky /global/cscratch1/sd/ajross/testledgers/skies.fits --footprint /global/cfs/cdirs/desi/datachallenge/onepercent/catalogs/dark/e2etiles_run3.fits  --dir /global/cscratch1/sd/ajross/testledgers/fiberassign/3 --rundate 2020-01-01T00:00:00 --overwrite\n",
      "INFO:quickcat.py:592:quickcat: Mon Feb 22 14:26:39 2021 QC Reading 5 tiles\n",
      "INFO:quickcat.py:636:quickcat: Mon Feb 22 14:26:39 2021 QC Trimming truth to just observed targets\n",
      "INFO:quickcat.py:643:quickcat: Mon Feb 22 14:26:39 2021 QC Constructing new redshift catalog\n",
      "INFO:quickcat.py:655:quickcat: Mon Feb 22 14:26:39 2021 QC Adding ZERR and ZWARN\n",
      "INFO:quickcat.py:673:quickcat: Mon Feb 22 14:26:39 2021 QC Adding NUMOBS column\n",
      "INFO:quickcat.py:679:quickcat: Mon Feb 22 14:26:39 2021 QC Merging previous zcat\n",
      "INFO:quickcat.py:726:quickcat: Mon Feb 22 14:26:40 2021 QC done\n",
      "run 3 done\n",
      "the zcat contains this many entries: 192487\n"
     ]
    }
   ],
   "source": [
    "for run in runs:\n",
    "    tileff = '/global/cfs/cdirs/desi/datachallenge/onepercent/catalogs/dark/e2etiles_run'+str(run)+'.fits'\n",
    "    tilef = fitsio.read(tileff)\n",
    "    #tilef = desimodel.io.load_tiles(tilesfile='/global/cfs/cdirs/desi/datachallenge/onepercent/catalogs/dark/e2etiles_run0.fits') #not sure why this doesn't work\n",
    "    tars = desitarget.io.read_targets_in_tiles(ldir, tiles=tilef, mtl=True, unique=True)\n",
    "    print('found '+str(len(tars))+' targets')\n",
    "    tarf = os.environ['CSCRATCH']+'/testledgers/darktar'+str(run)+'.fits'\n",
    "    fitsio.write(tarf,tars)\n",
    "    skies = desitarget.io.read_targets_in_tiles('/global/cfs/cdirs/desi/target/catalogs/dr9/0.49.0/skies',tiles=tilef)\n",
    "    skyf = os.environ['CSCRATCH']+'/testledgers/skies.fits'\n",
    "    fitsio.write(skyf,skies)\n",
    "    fapath = os.environ['CSCRATCH']+'/testledgers/fiberassign/'+str(run)\n",
    "    if not os.path.exists(fapath):\n",
    "        os.mkdir(fapath)    \n",
    "    fba_run = 'fba_run --targets {} --sky {} --footprint {}  --dir {} --rundate 2020-01-01T00:00:00 --overwrite'.format(\n",
    "                tarf, skyf, tileff, fapath)\n",
    "    print(fba_run)\n",
    "    os.system(fba_run)   \n",
    "    tars = Table.read(tarf)\n",
    "    #truth info for zcat, actual values don't matter for this test\n",
    "    tars['TRUEZ'] = np.random.random(len(tars))\n",
    "    tars['TRUETYPE'] = 'GALAXY'\n",
    "    tars['TRUESPECTYPE'] = 'GALAXY'\n",
    "    fba_files = np.sort(glob.glob(os.path.join(fapath,\"fba-*.fits\")))\n",
    "    if run == 0:\n",
    "        zcat = desisim.quickcat.quickcat(fba_files, tars, tars, fassignhdu='FASSIGN', perfect=True)\n",
    "    else:  \n",
    "        old_zcat = Table.read(old_zcat_filename)\n",
    "        zcat = desisim.quickcat.quickcat(fba_files, tars, tars, fassignhdu='FASSIGN', zcat=old_zcat, perfect=True)\n",
    "    old_zcat_filename = os.environ['CSCRATCH']+'/testledgers/zcat'+str(run)+'.fits'\n",
    "    zcat.write(old_zcat_filename, overwrite=True)\n",
    "    print('run '+str(run)+' done')\n",
    "    print('the zcat contains this many entries: '+str(len(zcat)))"
   ]
  },
  {
   "cell_type": "code",
   "execution_count": 46,
   "metadata": {},
   "outputs": [
    {
     "name": "stdout",
     "output_type": "stream",
     "text": [
      "39\n",
      "4\n",
      "3\n",
      "5\n"
     ]
    }
   ],
   "source": [
    "for run in runs:\n",
    "    tileff = '/global/cfs/cdirs/desi/datachallenge/onepercent/catalogs/dark/e2etiles_run'+str(run)+'.fits'\n",
    "    tilef = fitsio.read(tileff)\n",
    "    print(len(tilef))\n"
   ]
  },
  {
   "cell_type": "code",
   "execution_count": 47,
   "metadata": {},
   "outputs": [
    {
     "data": {
      "text/plain": [
       "('TARGETID', 'BRICKNAME', 'SPECTYPE', 'Z', 'ZERR', 'ZWARN', 'NUMOBS')"
      ]
     },
     "execution_count": 47,
     "metadata": {},
     "output_type": "execute_result"
    }
   ],
   "source": [
    "f = fitsio.read('/global/cscratch1/sd/ajross/testledgers/zcat3.fits')\n",
    "f.dtype.names"
   ]
  },
  {
   "cell_type": "code",
   "execution_count": 53,
   "metadata": {},
   "outputs": [],
   "source": [
    "#stack targets, match with zcat\n",
    "t0 = Table.read(os.environ['CSCRATCH']+'/testledgers/darktar0.fits')\n",
    "for ii in range(1,4):\n",
    "    tn = Table.read(os.environ['CSCRATCH']+'/testledgers/darktar'+str(ii)+'.fits')\n",
    "    t0 = vstack([t0,tn])\n",
    "t0 = unique(t0,keys=['TARGETID'])  \n",
    "t0.keep_columns(['RA','DEC','TARGETID','DESI_TARGET'])\n",
    "zj = join(f,t0,keys=['TARGETID'])"
   ]
  },
  {
   "cell_type": "code",
   "execution_count": 54,
   "metadata": {},
   "outputs": [
    {
     "data": {
      "text/plain": [
       "<TableColumns names=('TARGETID','BRICKNAME','SPECTYPE','Z','ZERR','ZWARN','NUMOBS','RA','DEC','DESI_TARGET')>"
      ]
     },
     "execution_count": 54,
     "metadata": {},
     "output_type": "execute_result"
    }
   ],
   "source": [
    "zj.columns"
   ]
  },
  {
   "cell_type": "code",
   "execution_count": 23,
   "metadata": {},
   "outputs": [],
   "source": [
    "skies = desitarget.io.read_targets_in_tiles('/global/cfs/cdirs/desi/target/catalogs/dr9/0.49.0/skies',tiles=tilef)"
   ]
  },
  {
   "cell_type": "code",
   "execution_count": 60,
   "metadata": {},
   "outputs": [
    {
     "data": {
      "text/plain": [
       "[<matplotlib.lines.Line2D at 0x2aaadb23a610>]"
      ]
     },
     "execution_count": 60,
     "metadata": {},
     "output_type": "execute_result"
    },
    {
     "data": {
      "image/png": "[encoded data removed]",
      "text/plain": [
       "<Figure size 432x288 with 1 Axes>"
      ]
     },
     "metadata": {
      "needs_background": "light"
     },
     "output_type": "display_data"
    }
   ],
   "source": [
    "plt.plot(zj['RA'],zj['DEC'],'k.')\n",
    "plt.plot(zj0['RA'],zj0['DEC'],'r.')"
   ]
  },
  {
   "cell_type": "code",
   "execution_count": 58,
   "metadata": {},
   "outputs": [
    {
     "data": {
      "text/plain": [
       "192487"
      ]
     },
     "execution_count": 58,
     "metadata": {},
     "output_type": "execute_result"
    }
   ],
   "source": [
    "len(zj)\n",
    "\n",
    "\n"
   ]
  },
  {
   "cell_type": "code",
   "execution_count": 59,
   "metadata": {},
   "outputs": [],
   "source": [
    "f0 = fitsio.read('/global/cscratch1/sd/ajross/testledgers/zcat0.fits')\n",
    "zj0 = join(f0,t0,keys=['TARGETID'])"
   ]
  },
  {
   "cell_type": "code",
   "execution_count": 39,
   "metadata": {},
   "outputs": [],
   "source": [
    "#targets : astropy Table of targets\n",
    "#truth : astropy Table of input truth with columns TARGETID, TRUEZ, and TRUETYPE"
   ]
  },
  {
   "cell_type": "code",
   "execution_count": 37,
   "metadata": {},
   "outputs": [],
   "source": []
  },
  {
   "cell_type": "code",
   "execution_count": 40,
   "metadata": {},
   "outputs": [
    {
     "name": "stdout",
     "output_type": "stream",
     "text": [
      "INFO:quickcat.py:592:quickcat: Mon Feb 22 13:27:53 2021 QC Reading 39 tiles\n",
      "INFO:quickcat.py:636:quickcat: Mon Feb 22 13:27:55 2021 QC Trimming truth to just observed targets\n",
      "INFO:quickcat.py:643:quickcat: Mon Feb 22 13:27:55 2021 QC Constructing new redshift catalog\n",
      "INFO:quickcat.py:655:quickcat: Mon Feb 22 13:27:56 2021 QC Adding ZERR and ZWARN\n",
      "INFO:quickcat.py:673:quickcat: Mon Feb 22 13:27:56 2021 QC Adding NUMOBS column\n",
      "INFO:quickcat.py:679:quickcat: Mon Feb 22 13:27:56 2021 QC Merging previous zcat\n",
      "INFO:quickcat.py:726:quickcat: Mon Feb 22 13:27:56 2021 QC done\n"
     ]
    }
   ],
   "source": []
  },
  {
   "cell_type": "code",
   "execution_count": 43,
   "metadata": {},
   "outputs": [
    {
     "name": "stdout",
     "output_type": "stream",
     "text": [
      "INFO:mtl.py:230:make_mtl: 162712 of 678179 targets have priority zero, setting N_obs=0.\n",
      "INFO:mtl.py:293:make_mtl: Done...t=2.4s\n"
     ]
    }
   ],
   "source": [
    "desitarget.mtl.update_ledger(ldir, tars, zcat)"
   ]
  },
  {
   "cell_type": "code",
   "execution_count": 62,
   "metadata": {},
   "outputs": [
    {
     "data": {
      "text/plain": [
       "'#   OBSCON: DARK, SURVEY: main}\\n'"
      ]
     },
     "execution_count": 62,
     "metadata": {},
     "output_type": "execute_result"
    }
   ],
   "source": [
    "f.readline()"
   ]
  },
  {
   "cell_type": "code",
   "execution_count": 63,
   "metadata": {},
   "outputs": [
    {
     "name": "stdout",
     "output_type": "stream",
     "text": [
      " DARK\n"
     ]
    }
   ],
   "source": [
    "f = open(os.environ['CSCRATCH']+'/testledgers/dr9/0.50.0.dev4501/mtl/main/dark/mtl-dark-hp-3151.ecsv')\n",
    "keyword = 'OBSCON'\n",
    "for line in f:\n",
    "    if keyword in line and 'name' not in line:\n",
    "        break\n",
    "ls = line.split(',')\n",
    "for ii in range(0,len(ls)):\n",
    "    if keyword in ls[ii]:\n",
    "        keyval = ls[ii].split(':')[1].split(\"}\")[0]\n",
    "print(keyval)\n"
   ]
  },
  {
   "cell_type": "code",
   "execution_count": 10,
   "metadata": {},
   "outputs": [
    {
     "name": "stdout",
     "output_type": "stream",
     "text": [
      "INFO:io.py:3282:read_targets_header: no FITS files in /global/cscratch1/sd/ajross/testledgers/dr9/0.50.0.dev4501/mtl/main/dark/?!\n"
     ]
    },
    {
     "ename": "OSError",
     "evalue": "FITSIO status = 108: error reading from FITS file\nError reading data buffer from file:\n/global/cscratch1/sd/ajross/testledgers/dr9/0.50.0.dev4501/mtl/main/dark/\nffopen could not interpret primary array header of file: \n/global/cscratch1/sd/ajross/testledgers/dr9/0.50.0.dev4501/mtl/main/dark/\n",
     "output_type": "error",
     "traceback": [
      "\u001b[0;31m---------------------------------------------------------------------------\u001b[0m",
      "\u001b[0;31mOSError\u001b[0m                                   Traceback (most recent call last)",
      "\u001b[0;32m<ipython-input-10-c795ed930b9e>\u001b[0m in \u001b[0;36m<module>\u001b[0;34m\u001b[0m\n\u001b[0;32m----> 1\u001b[0;31m \u001b[0mdesitarget\u001b[0m\u001b[0;34m.\u001b[0m\u001b[0mio\u001b[0m\u001b[0;34m.\u001b[0m\u001b[0mread_targets_header\u001b[0m\u001b[0;34m(\u001b[0m\u001b[0mldir\u001b[0m\u001b[0;34m)\u001b[0m\u001b[0;34m\u001b[0m\u001b[0;34m\u001b[0m\u001b[0m\n\u001b[0m",
      "\u001b[0;32m/global/common/software/desi/cori/desiconda/20200801-1.4.0-spec/code/desitarget/master/py/desitarget/io.py\u001b[0m in \u001b[0;36mread_targets_header\u001b[0;34m(hpdirname, dtype, verbose)\u001b[0m\n\u001b[1;32m   3284\u001b[0m     \u001b[0;31m# ADM rows=[0] here, speeds up read_target_files retrieval\u001b[0m\u001b[0;34m\u001b[0m\u001b[0;34m\u001b[0m\u001b[0;34m\u001b[0m\u001b[0m\n\u001b[1;32m   3285\u001b[0m     \u001b[0;31m# ADM of the header.\u001b[0m\u001b[0;34m\u001b[0m\u001b[0;34m\u001b[0m\u001b[0;34m\u001b[0m\u001b[0m\n\u001b[0;32m-> 3286\u001b[0;31m     \u001b[0mrow\u001b[0m\u001b[0;34m,\u001b[0m \u001b[0mhdr\u001b[0m \u001b[0;34m=\u001b[0m \u001b[0mread_target_files\u001b[0m\u001b[0;34m(\u001b[0m\u001b[0mhpdirname\u001b[0m\u001b[0;34m,\u001b[0m \u001b[0mrows\u001b[0m\u001b[0;34m=\u001b[0m\u001b[0;34m[\u001b[0m\u001b[0;36m0\u001b[0m\u001b[0;34m]\u001b[0m\u001b[0;34m,\u001b[0m \u001b[0mheader\u001b[0m\u001b[0;34m=\u001b[0m\u001b[0;32mTrue\u001b[0m\u001b[0;34m,\u001b[0m \u001b[0mverbose\u001b[0m\u001b[0;34m=\u001b[0m\u001b[0;32mFalse\u001b[0m\u001b[0;34m)\u001b[0m\u001b[0;34m\u001b[0m\u001b[0;34m\u001b[0m\u001b[0m\n\u001b[0m\u001b[1;32m   3287\u001b[0m \u001b[0;34m\u001b[0m\u001b[0m\n\u001b[1;32m   3288\u001b[0m     \u001b[0;32mif\u001b[0m \u001b[0mdtype\u001b[0m\u001b[0;34m:\u001b[0m\u001b[0;34m\u001b[0m\u001b[0;34m\u001b[0m\u001b[0m\n",
      "\u001b[0;32m/global/common/software/desi/cori/desiconda/20200801-1.4.0-spec/code/desitarget/master/py/desitarget/io.py\u001b[0m in \u001b[0;36mread_target_files\u001b[0;34m(filename, columns, rows, header, downsample, verbose)\u001b[0m\n\u001b[1;32m   2451\u001b[0m                  \"MASKS\", \"MTL\", \"SCND_TARGETS\"]\n\u001b[1;32m   2452\u001b[0m     \u001b[0;31m# ADM read in the FITS extension info.\u001b[0m\u001b[0;34m\u001b[0m\u001b[0;34m\u001b[0m\u001b[0;34m\u001b[0m\u001b[0m\n\u001b[0;32m-> 2453\u001b[0;31m     \u001b[0mf\u001b[0m \u001b[0;34m=\u001b[0m \u001b[0mfitsio\u001b[0m\u001b[0;34m.\u001b[0m\u001b[0mFITS\u001b[0m\u001b[0;34m(\u001b[0m\u001b[0mfilename\u001b[0m\u001b[0;34m)\u001b[0m\u001b[0;34m\u001b[0m\u001b[0;34m\u001b[0m\u001b[0m\n\u001b[0m\u001b[1;32m   2454\u001b[0m     \u001b[0;32mif\u001b[0m \u001b[0mlen\u001b[0m\u001b[0;34m(\u001b[0m\u001b[0mf\u001b[0m\u001b[0;34m)\u001b[0m \u001b[0;34m!=\u001b[0m \u001b[0;36m2\u001b[0m\u001b[0;34m:\u001b[0m\u001b[0;34m\u001b[0m\u001b[0;34m\u001b[0m\u001b[0m\n\u001b[1;32m   2455\u001b[0m         \u001b[0;31m# ADM target files have an extra extension.\u001b[0m\u001b[0;34m\u001b[0m\u001b[0;34m\u001b[0m\u001b[0;34m\u001b[0m\u001b[0m\n",
      "\u001b[0;32m/global/common/software/desi/cori/desiconda/20200801-1.4.0-spec/conda/lib/python3.8/site-packages/fitsio/fitslib.py\u001b[0m in \u001b[0;36m__init__\u001b[0;34m(self, filename, mode, lower, upper, trim_strings, vstorage, case_sensitive, iter_row_buffer, write_bitcols, ignore_empty, verbose, clobber, **keys)\u001b[0m\n\u001b[1;32m    475\u001b[0m                     \u001b[0mcreate\u001b[0m \u001b[0;34m=\u001b[0m \u001b[0;36m1\u001b[0m\u001b[0;34m\u001b[0m\u001b[0;34m\u001b[0m\u001b[0m\n\u001b[1;32m    476\u001b[0m \u001b[0;34m\u001b[0m\u001b[0m\n\u001b[0;32m--> 477\u001b[0;31m         \u001b[0mself\u001b[0m\u001b[0;34m.\u001b[0m\u001b[0m_FITS\u001b[0m \u001b[0;34m=\u001b[0m \u001b[0m_fitsio_wrap\u001b[0m\u001b[0;34m.\u001b[0m\u001b[0mFITS\u001b[0m\u001b[0;34m(\u001b[0m\u001b[0mfilename\u001b[0m\u001b[0;34m,\u001b[0m \u001b[0mself\u001b[0m\u001b[0;34m.\u001b[0m\u001b[0mintmode\u001b[0m\u001b[0;34m,\u001b[0m \u001b[0mcreate\u001b[0m\u001b[0;34m)\u001b[0m\u001b[0;34m\u001b[0m\u001b[0;34m\u001b[0m\u001b[0m\n\u001b[0m\u001b[1;32m    478\u001b[0m \u001b[0;34m\u001b[0m\u001b[0m\n\u001b[1;32m    479\u001b[0m     \u001b[0;32mdef\u001b[0m \u001b[0mclose\u001b[0m\u001b[0;34m(\u001b[0m\u001b[0mself\u001b[0m\u001b[0;34m)\u001b[0m\u001b[0;34m:\u001b[0m\u001b[0;34m\u001b[0m\u001b[0;34m\u001b[0m\u001b[0m\n",
      "\u001b[0;31mOSError\u001b[0m: FITSIO status = 108: error reading from FITS file\nError reading data buffer from file:\n/global/cscratch1/sd/ajross/testledgers/dr9/0.50.0.dev4501/mtl/main/dark/\nffopen could not interpret primary array header of file: \n/global/cscratch1/sd/ajross/testledgers/dr9/0.50.0.dev4501/mtl/main/dark/\n"
     ]
    }
   ],
   "source": [
    "desitarget.io.read_targets_header(ldir)"
   ]
  },
  {
   "cell_type": "code",
   "execution_count": 11,
   "metadata": {},
   "outputs": [
    {
     "ename": "AttributeError",
     "evalue": "module 'desitarget.io' has no attribute 'hpdirname'",
     "output_type": "error",
     "traceback": [
      "\u001b[0;31m---------------------------------------------------------------------------\u001b[0m",
      "\u001b[0;31mAttributeError\u001b[0m                            Traceback (most recent call last)",
      "\u001b[0;32m<ipython-input-11-d476afc81664>\u001b[0m in \u001b[0;36m<module>\u001b[0;34m\u001b[0m\n\u001b[0;32m----> 1\u001b[0;31m \u001b[0mdesitarget\u001b[0m\u001b[0;34m.\u001b[0m\u001b[0mio\u001b[0m\u001b[0;34m.\u001b[0m\u001b[0mhpdirname\u001b[0m\u001b[0;34m\u001b[0m\u001b[0;34m\u001b[0m\u001b[0m\n\u001b[0m",
      "\u001b[0;31mAttributeError\u001b[0m: module 'desitarget.io' has no attribute 'hpdirname'"
     ]
    }
   ],
   "source": [
    "desitarget.io.hpdirname"
   ]
  },
  {
   "cell_type": "code",
   "execution_count": null,
   "metadata": {},
   "outputs": [],
   "source": []
  }
 ],
 "metadata": {
  "kernelspec": {
   "display_name": "DESI master",
   "language": "python",
   "name": "desi-master"
  },
  "language_info": {
   "codemirror_mode": {
    "name": "ipython",
    "version": 3
   },
   "file_extension": ".py",
   "mimetype": "text/x-python",
   "name": "python",
   "nbconvert_exporter": "python",
   "pygments_lexer": "ipython3",
   "version": "3.8.3"
  }
 },
 "nbformat": 4,
 "nbformat_minor": 4
}
