{
 "cells": [
  {
   "cell_type": "code",
   "execution_count": 1,
   "metadata": {},
   "outputs": [],
   "source": [
    "from __future__ import division, print_function\n",
    "import sys, os, glob, time, warnings, gc\n",
    "import numpy as np\n",
    "import matplotlib.pyplot as plt\n",
    "from astropy.table import Table, vstack, hstack, join\n",
    "import fitsio"
   ]
  },
  {
   "cell_type": "code",
   "execution_count": 2,
   "metadata": {},
   "outputs": [],
   "source": [
    "tileid_list = [80607, 80609, 80620]"
   ]
  },
  {
   "cell_type": "code",
   "execution_count": 3,
   "metadata": {},
   "outputs": [],
   "source": [
    "#some criteria\n",
    "fail_threshold = 0.0033\n",
    "deep_dchi2 = 100\n",
    "mindepth = 120"
   ]
  },
  {
   "cell_type": "code",
   "execution_count": 5,
   "metadata": {},
   "outputs": [
    {
     "name": "stdout",
     "output_type": "stream",
     "text": [
      "Tile 80607\n",
      "13266 1922 6097.749969482422\n",
      "10388\n",
      "number, fraction of failures, fraction of failures with zwarn==0\n",
      "7382 0.0853427255486318 0.057030615009482526\n",
      "Tile 80609\n",
      "12750 2125 4106.550003051758\n",
      "9606\n",
      "number, fraction of failures, fraction of failures with zwarn==0\n",
      "6404 0.057932542161149285 0.03513429106808245\n",
      "Tile 80620\n",
      "11890 2049 4787.799987792969\n",
      "8640\n",
      "number, fraction of failures, fraction of failures with zwarn==0\n",
      "5670 0.1037037037037037 0.07266313932980599\n"
     ]
    },
    {
     "data": {
      "image/png": "[encoded data removed]",
      "text/plain": [
       "<Figure size 432x288 with 1 Axes>"
      ]
     },
     "metadata": {
      "needs_background": "light"
     },
     "output_type": "display_data"
    }
   ],
   "source": [
    "for td in tileid_list:\n",
    "    \n",
    "    print('Tile {}'.format(td))\n",
    "    \n",
    "    f = fitsio.read('/project/projectdirs/desi/users/ajross/catalogs/SV/redshift_comps/test/'+str(td)+'_LRGzinfo.fits') #fitsio *much* faster than using Table here\n",
    "    deep = f[f['subset']=='deep'] \n",
    "    min_depth = np.max(deep['R_DEPTH'])/2\n",
    "    print(len(f),len(deep),min_depth)\n",
    "    \n",
    "    #get list of truez in appropriate rows, matching Rongpu's definition for criteria required to allow truth determination\n",
    "    #rows without truth have z==0\n",
    "    mzl = np.zeros(len(f))\n",
    "    tids = np.unique(f['TARGETID'])\n",
    "    for iid in tids:\n",
    "        sf = f['TARGETID'] == iid\n",
    "        fi = f[sf]\n",
    "        fd = fi[fi['subset']=='deep']\n",
    "        mask = fd['FIBERSTATUS']==0 # Remove FIBERSTATUS!=0 fibers\n",
    "        mask &= fd['ZWARN'] & 2**9==0 # Remove \"no data\" fibers\n",
    "        mask &= fd['ZWARN']==0\n",
    "        mask &= fd['R_DEPTH'] > min_depth\n",
    "        mask &= fd['DELTACHI2'] > deep_dchi2\n",
    "        if len(fd[mask]) > 0:\n",
    "            mzl[sf] = fd['Z']\n",
    "    \n",
    "    w = mzl != 0\n",
    "    print(len(mzl[w]))\n",
    "    tf = Table(f)\n",
    "    tf['Z_TRUTH'] = mzl\n",
    "    masknight = tf['subset'] != 'deep'\n",
    "    masknight &= tf['subset'] != 'all'\n",
    "    masknight &= tf['Z_TRUTH'] != 0\n",
    "    tcomp = tf[masknight]\n",
    "    dz = tcomp['Z'] - tcomp['Z_TRUTH']\n",
    "    bz = abs(dz) > fail_threshold\n",
    "    bzz = bz & (tcomp['ZWARN'] != 0)\n",
    "    print('number, fraction of failures, fraction of failures with zwarn==0')\n",
    "    print(len(tcomp),len(tcomp[bz])/len(tcomp),len(tcomp[bzz])/len(tcomp))\n",
    "    rvals = np.unique(tcomp['R_DEPTH'])\n",
    "    ff = []\n",
    "    rv = []\n",
    "    nb = []\n",
    "    nt = []\n",
    "    for rval in rvals:\n",
    "        ds = tcomp[tcomp['R_DEPTH']==rval]\n",
    "        dz = ds['Z'] - ds['Z_TRUTH']\n",
    "        bz = abs(dz) > fail_threshold\n",
    "        if len(ds) > 30 and rval > mindepth:\n",
    "            ff.append(len(ds[bz])/len(ds))\n",
    "            nb.append(len(ds[bz]))\n",
    "            nt.append(len(ds))\n",
    "            rv.append(rval)\n",
    "    nt = np.array(nt)\n",
    "    nb = np.array(nb)\n",
    "    err = ((nt-nb)*(1.-(nt-nb)/nt))**.5/nt #binomial error formula, needs double-check\n",
    "    plt.errorbar(rv,ff,err,fmt='.',label=td)\n",
    "\n",
    "plt.legend()\n",
    "plt.xlabel('R_DEPTH effective exposure time')\n",
    "plt.ylabel('failure fraction')\n",
    "plt.show()    \n",
    "    \n",
    "\n",
    "    "
   ]
  },
  {
   "cell_type": "code",
   "execution_count": null,
   "metadata": {},
   "outputs": [],
   "source": []
  },
  {
   "cell_type": "code",
   "execution_count": null,
   "metadata": {},
   "outputs": [],
   "source": []
  },
  {
   "cell_type": "code",
   "execution_count": null,
   "metadata": {},
   "outputs": [],
   "source": []
  }
 ],
 "metadata": {
  "kernelspec": {
   "display_name": "DESI master",
   "language": "python",
   "name": "desi-master"
  },
  "language_info": {
   "codemirror_mode": {
    "name": "ipython",
    "version": 3
   },
   "file_extension": ".py",
   "mimetype": "text/x-python",
   "name": "python",
   "nbconvert_exporter": "python",
   "pygments_lexer": "ipython3",
   "version": "3.8.3"
  }
 },
 "nbformat": 4,
 "nbformat_minor": 4
}
