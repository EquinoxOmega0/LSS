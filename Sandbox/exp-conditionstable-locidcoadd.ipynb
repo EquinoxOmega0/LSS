{
 "cells": [
  {
   "cell_type": "code",
   "execution_count": 1,
   "id": "eeab32ab-bfdd-4534-bb9e-aaf23f8a7f79",
   "metadata": {},
   "outputs": [],
   "source": [
    "import glob\n",
    "import numpy as np\n",
    "import astropy.io.fits as fits\n",
    "\n",
    "from   astropy.table import Table, join, unique, vstack\n",
    "from   desiutil.log import get_logger"
   ]
  },
  {
   "cell_type": "code",
   "execution_count": 2,
   "id": "045bec19-e256-4b25-862e-2cb955740d20",
   "metadata": {},
   "outputs": [],
   "source": [
    "everest   = '/global/cfs/cdirs/desi/spectro/redux/everest/'"
   ]
  },
  {
   "cell_type": "code",
   "execution_count": 3,
   "id": "167753ca-a3a2-49bc-979c-4b50d73e116a",
   "metadata": {},
   "outputs": [
    {
     "data": {
      "text/html": [
       "<i>Table length=3912</i>\n",
       "<table id=\"table46912562462480\" class=\"table-striped table-bordered table-condensed\">\n",
       "<thead><tr><th>EXPID</th><th>SEEING_ETC</th><th>AIRMASS</th><th>EBV</th><th>TRANSPARENCY_GFA</th><th>SEEING_GFA</th><th>SKY_MAG_AB_GFA</th><th>SKY_MAG_G_SPEC</th><th>SKY_MAG_R_SPEC</th><th>SKY_MAG_Z_SPEC</th><th>EFFTIME_SPEC</th></tr></thead>\n",
       "<thead><tr><th>int32</th><th>float64</th><th>float32</th><th>float64</th><th>float64</th><th>float64</th><th>float64</th><th>float64</th><th>float64</th><th>float64</th><th>float32</th></tr></thead>\n",
       "<tr><td>67678</td><td>0.0</td><td>1.023959</td><td>0.05589795857667923</td><td>0.9421358004271907</td><td>2.3493915528589158</td><td>20.306343899519227</td><td>21.941855433300375</td><td>20.967777902066913</td><td>19.06485558344176</td><td>7.1578417</td></tr>\n",
       "<tr><td>67679</td><td>0.0</td><td>0.0</td><td>0.0</td><td>0.9031746394430591</td><td>2.8709763698441533</td><td>20.253945455193083</td><td>21.990210548474533</td><td>21.005319539905468</td><td>19.11832218906547</td><td>0.0</td></tr>\n",
       "<tr><td>67680</td><td>0.0</td><td>0.0</td><td>0.0</td><td>0.9527972869199486</td><td>2.183973198109514</td><td>20.033265558674195</td><td>21.974079414911984</td><td>21.00463565548948</td><td>19.136359781174068</td><td>0.0</td></tr>\n",
       "<tr><td>67681</td><td>0.0</td><td>0.0</td><td>0.0</td><td>0.9507191598338869</td><td>2.2193172453875247</td><td>20.218061565792368</td><td>21.984141770313954</td><td>21.029691679011016</td><td>19.17373571059973</td><td>0.0</td></tr>\n",
       "<tr><td>67682</td><td>0.0</td><td>0.0</td><td>0.0</td><td>0.9562083786822335</td><td>1.984629969729699</td><td>20.202504822354022</td><td>21.970702187540937</td><td>21.026567014552832</td><td>19.182125628343407</td><td>0.0</td></tr>\n",
       "<tr><td>67683</td><td>0.0</td><td>0.0</td><td>0.0</td><td>0.9593816691164547</td><td>1.958987337182022</td><td>20.211071197447247</td><td>21.985165548596846</td><td>21.043199719879794</td><td>19.199415786170565</td><td>0.0</td></tr>\n",
       "<tr><td>67684</td><td>0.0</td><td>0.0</td><td>0.0</td><td>0.978166395729116</td><td>1.9761185927634832</td><td>20.213012077803974</td><td>21.981274613992447</td><td>21.033829690050773</td><td>19.196835193759735</td><td>0.0</td></tr>\n",
       "<tr><td>67685</td><td>0.0</td><td>0.0</td><td>0.0</td><td>0.9567281144246651</td><td>1.9975639097347049</td><td>20.21637489510896</td><td>22.010570813576145</td><td>21.055310412499367</td><td>19.21901700879002</td><td>0.0</td></tr>\n",
       "<tr><td>67686</td><td>0.0</td><td>0.0</td><td>0.0</td><td>0.9574311971931043</td><td>2.159358609455105</td><td>20.22896099635877</td><td>22.018361094047165</td><td>21.067962842572513</td><td>19.239374632070636</td><td>0.0</td></tr>\n",
       "<tr><td>67687</td><td>0.0</td><td>0.0</td><td>0.0</td><td>0.951669723039628</td><td>2.220130961558369</td><td>20.21090967929075</td><td>22.0295308357817</td><td>21.075762949527185</td><td>19.255459749951005</td><td>0.0</td></tr>\n",
       "<tr><td>...</td><td>...</td><td>...</td><td>...</td><td>...</td><td>...</td><td>...</td><td>...</td><td>...</td><td>...</td><td>...</td></tr>\n",
       "<tr><td>98060</td><td>1.869027018547058</td><td>1.157779</td><td>0.04917355254292488</td><td>0.9088841845252795</td><td>1.7083064392503897</td><td>20.57675512877956</td><td>20.729976639896638</td><td>20.62047062236885</td><td>19.34227820854179</td><td>54.90231</td></tr>\n",
       "<tr><td>98061</td><td>1.5322619676589966</td><td>1.047825</td><td>0.04297346994280815</td><td>0.8999746050951143</td><td>1.5348682215518363</td><td>21.085538487576585</td><td>21.78650593909639</td><td>21.186829717722144</td><td>19.499804684054048</td><td>114.747345</td></tr>\n",
       "<tr><td>98062</td><td>0.0</td><td>0.0</td><td>0.035126589238643646</td><td>0.4031700486856702</td><td>2.1828497863804563</td><td>20.98519385958091</td><td>1e+20</td><td>1e+20</td><td>1e+20</td><td>0.0</td></tr>\n",
       "<tr><td>98063</td><td>1.863860011100769</td><td>1.202465</td><td>0.009743289090692997</td><td>0.6593625244628543</td><td>1.8006506942972114</td><td>21.1337467259341</td><td>22.139669897712334</td><td>21.18840873581034</td><td>19.508612337518937</td><td>210.4318</td></tr>\n",
       "<tr><td>98064</td><td>1.863860011100769</td><td>1.257773</td><td>0.009743289090692997</td><td>0.7280815651045056</td><td>1.8190103793152292</td><td>21.064701180660066</td><td>22.156303097522752</td><td>21.170006155386854</td><td>19.426787466774762</td><td>42.923183</td></tr>\n",
       "<tr><td>98065</td><td>1.3286219835281372</td><td>1.003564</td><td>0.020572833716869354</td><td>0.9113439779102812</td><td>1.5250489248330703</td><td>21.42711967537739</td><td>22.422285760856532</td><td>21.510158138591635</td><td>19.670035911567602</td><td>265.1308</td></tr>\n",
       "<tr><td>98066</td><td>1.5384420156478882</td><td>1.012705</td><td>0.016557782888412476</td><td>0.9402062232345167</td><td>1.3956305505009627</td><td>21.41111260750814</td><td>22.42218147638614</td><td>21.516593777718786</td><td>19.608427856043996</td><td>219.12538</td></tr>\n",
       "<tr><td>98067</td><td>1.5751819610595703</td><td>1.00779</td><td>0.016173481941223145</td><td>0.9518044086275428</td><td>1.288053448632624</td><td>21.442237395794507</td><td>22.44364303477939</td><td>21.545303377110677</td><td>19.563425052239353</td><td>211.49832</td></tr>\n",
       "<tr><td>98068</td><td>0.0</td><td>0.0</td><td>0.08577289432287216</td><td>0.5473561497298427</td><td>1.3395697163086429</td><td>21.108468959510226</td><td>1e+20</td><td>1e+20</td><td>1e+20</td><td>0.0</td></tr>\n",
       "<tr><td>98069</td><td>0.0</td><td>0.0</td><td>0.08577289432287216</td><td>0.3079941772485105</td><td>1.1467371192689695</td><td>20.99330650097509</td><td>1e+20</td><td>1e+20</td><td>1e+20</td><td>0.0</td></tr>\n",
       "</table>"
      ],
      "text/plain": [
       "<Table length=3912>\n",
       "EXPID     SEEING_ETC     AIRMASS  ...   SKY_MAG_Z_SPEC   EFFTIME_SPEC\n",
       "int32      float64       float32  ...      float64         float32   \n",
       "----- ------------------ -------- ... ------------------ ------------\n",
       "67678                0.0 1.023959 ...  19.06485558344176    7.1578417\n",
       "67679                0.0      0.0 ...  19.11832218906547          0.0\n",
       "67680                0.0      0.0 ... 19.136359781174068          0.0\n",
       "67681                0.0      0.0 ...  19.17373571059973          0.0\n",
       "67682                0.0      0.0 ... 19.182125628343407          0.0\n",
       "67683                0.0      0.0 ... 19.199415786170565          0.0\n",
       "67684                0.0      0.0 ... 19.196835193759735          0.0\n",
       "67685                0.0      0.0 ...  19.21901700879002          0.0\n",
       "67686                0.0      0.0 ... 19.239374632070636          0.0\n",
       "67687                0.0      0.0 ... 19.255459749951005          0.0\n",
       "  ...                ...      ... ...                ...          ...\n",
       "98060  1.869027018547058 1.157779 ...  19.34227820854179     54.90231\n",
       "98061 1.5322619676589966 1.047825 ... 19.499804684054048   114.747345\n",
       "98062                0.0      0.0 ...              1e+20          0.0\n",
       "98063  1.863860011100769 1.202465 ... 19.508612337518937     210.4318\n",
       "98064  1.863860011100769 1.257773 ... 19.426787466774762    42.923183\n",
       "98065 1.3286219835281372 1.003564 ... 19.670035911567602     265.1308\n",
       "98066 1.5384420156478882 1.012705 ... 19.608427856043996    219.12538\n",
       "98067 1.5751819610595703  1.00779 ... 19.563425052239353    211.49832\n",
       "98068                0.0      0.0 ...              1e+20          0.0\n",
       "98069                0.0      0.0 ...              1e+20          0.0"
      ]
     },
     "execution_count": 3,
     "metadata": {},
     "output_type": "execute_result"
    }
   ],
   "source": [
    "exposures = Table.read(everest + '/exposures-everest.fits', hdu=1)\n",
    "exposures = exposures['EXPID', 'SEEING_ETC', 'AIRMASS', 'EBV', 'TRANSPARENCY_GFA', 'SEEING_GFA', 'SKY_MAG_AB_GFA', 'SKY_MAG_G_SPEC', 'SKY_MAG_R_SPEC', 'SKY_MAG_Z_SPEC', 'EFFTIME_SPEC']\n",
    "exposures"
   ]
  },
  {
   "cell_type": "code",
   "execution_count": 4,
   "id": "95805fca-2630-4ce9-8846-d1f891b2fbf1",
   "metadata": {},
   "outputs": [],
   "source": [
    "# https://github.com/desihub/desispec/blob/42834c3e610fb98a4bb01fdb4599aa8816b2b338/bin/desi_tsnr_afterburner#L151\n",
    "def read_gfa_data(gfa_proc_dir='/global/cfs/cdirs/desi/survey/GFA/'):\n",
    "    '''\n",
    "    Read the directory with the offline GFA data reduction (like /global/cfs/cdirs/desi/survey/GFA/),\n",
    "    find the latest version of the table files for the various surveys, return the merged table.\n",
    "    \n",
    "    See documentation here https://desi.lbl.gov/trac/wiki/SurveyValidation/SV1/conditions/summary_files\n",
    "    \n",
    "    Args:\n",
    "      gfa_proc_dir: str, directory path\n",
    "    \n",
    "    returns astropy.table.Table\n",
    "    '''\n",
    "    log = get_logger()\n",
    "    \n",
    "    tables=[]\n",
    "    \n",
    "    for survey in [\"SV1\",\"SV2\",\"SV3\"] :\n",
    "        filenames=sorted(glob.glob(\"{}/offline_matched_coadd_ccds_{}-thru_????????.fits\".format(gfa_proc_dir,survey)))\n",
    "        if len(filenames)==0: \n",
    "            continue\n",
    "        filename=filenames[-1]\n",
    "        log.info(f\"Reading {filename}\")\n",
    "        table=Table.read(filename,2)# HDU2 is average over frames during spectro exposure and median across CCDs\n",
    "        tables.append(table)\n",
    "    \n",
    "    if len(tables)==0 :\n",
    "        log=get_logger()\n",
    "        mess=\"did not find any file offline_matched_coadd_ccds_*-thru_????????.fits in {}\".format(gfa_proc_dir)\n",
    "        log.critical(mess)\n",
    "        raise RuntimeError(mess)\n",
    "    \n",
    "    table=vstack(tables)\n",
    "    \n",
    "    log.info(f'{len(table)} GFA table entries')\n",
    "    \n",
    "    return table"
   ]
  },
  {
   "cell_type": "code",
   "execution_count": 42,
   "id": "2de3777f-fe0a-4111-a714-6c82a6684691",
   "metadata": {},
   "outputs": [
    {
     "name": "stdout",
     "output_type": "stream",
     "text": [
      "INFO:<ipython-input-4-9a0afbf46f36>:23:read_gfa_data: Reading /global/cfs/cdirs/desi/survey/GFA/offline_matched_coadd_ccds_SV3-thru_20211103.fits\n",
      "INFO:<ipython-input-4-9a0afbf46f36>:35:read_gfa_data: 2904 GFA table entries\n"
     ]
    },
    {
     "data": {
      "text/plain": [
       "('EXPID',\n",
       " 'CUBE_INDEX',\n",
       " 'NIGHT',\n",
       " 'EXPTIME',\n",
       " 'FNAME_RAW',\n",
       " 'SKYRA',\n",
       " 'SKYDEC',\n",
       " 'PROGRAM',\n",
       " 'MOON_ILLUMINATION',\n",
       " 'MOON_ZD_DEG',\n",
       " 'MOON_SEP_DEG',\n",
       " 'KTERM',\n",
       " 'FRACFLUX_NOMINAL_POINTSOURCE',\n",
       " 'FRACFLUX_NOMINAL_ELG',\n",
       " 'FRACFLUX_NOMINAL_BGS',\n",
       " 'MJD',\n",
       " 'FWHM_ASEC',\n",
       " 'TRANSPARENCY',\n",
       " 'SKY_MAG_AB',\n",
       " 'FIBER_FRACFLUX',\n",
       " 'FIBER_FRACFLUX_ELG',\n",
       " 'FIBER_FRACFLUX_BGS',\n",
       " 'AIRMASS',\n",
       " 'RADPROF_FWHM_ASEC',\n",
       " 'FIBERFAC',\n",
       " 'FIBERFAC_ELG',\n",
       " 'FIBERFAC_BGS',\n",
       " 'MINCONTRAST',\n",
       " 'MAXCONTRAST')"
      ]
     },
     "execution_count": 42,
     "metadata": {},
     "output_type": "execute_result"
    }
   ],
   "source": [
    "##  Note:  only SV3 in this directory. \n",
    "gfa_data  = read_gfa_data('/global/cfs/cdirs/desi/survey/GFA/')\n",
    "gfa_data.dtype.names"
   ]
  },
  {
   "cell_type": "code",
   "execution_count": 43,
   "id": "0455b3b0-c9c3-4d0b-b8cd-c60972ac3023",
   "metadata": {},
   "outputs": [],
   "source": [
    "uids, cnts = np.unique(gfa_data['EXPID'].data, return_counts=True)\n",
    "assert  cnts.max() == 1"
   ]
  },
  {
   "cell_type": "code",
   "execution_count": 44,
   "id": "aab28905-1107-4106-9b52-4544642d1e2c",
   "metadata": {},
   "outputs": [],
   "source": [
    "gfa_data = gfa_data['EXPID', 'MOON_ILLUMINATION', 'MOON_SEP_DEG']"
   ]
  },
  {
   "cell_type": "code",
   "execution_count": 45,
   "id": "0a373a29-baae-49fa-9d4a-e748da3ee0c8",
   "metadata": {},
   "outputs": [
    {
     "data": {
      "text/plain": [
       "(3912, 2904)"
      ]
     },
     "execution_count": 45,
     "metadata": {},
     "output_type": "execute_result"
    }
   ],
   "source": [
    "len(exposures), len(gfa_data)"
   ]
  },
  {
   "cell_type": "code",
   "execution_count": 61,
   "id": "206ff02a-17b0-4d49-a2b0-451aafc081af",
   "metadata": {},
   "outputs": [
    {
     "data": {
      "text/html": [
       "<i>Table length=3912</i>\n",
       "<table id=\"table46912562462576\" class=\"table-striped table-bordered table-condensed\">\n",
       "<thead><tr><th>EXPID</th><th>SEEING_ETC</th><th>AIRMASS</th><th>EBV</th><th>TRANSPARENCY_GFA</th><th>SEEING_GFA</th><th>SKY_MAG_AB_GFA</th><th>SKY_MAG_G_SPEC</th><th>SKY_MAG_R_SPEC</th><th>SKY_MAG_Z_SPEC</th><th>EFFTIME_SPEC</th><th>MOON_ILLUMINATION</th><th>MOON_SEP_DEG</th></tr></thead>\n",
       "<thead><tr><th>int64</th><th>float64</th><th>float32</th><th>float64</th><th>float64</th><th>float64</th><th>float64</th><th>float64</th><th>float64</th><th>float64</th><th>float32</th><th>float64</th><th>float64</th></tr></thead>\n",
       "<tr><td>67678</td><td>0.0</td><td>1.023959</td><td>0.05589795857667923</td><td>0.9421358004271907</td><td>2.3493915528589158</td><td>20.306343899519227</td><td>21.941855433300375</td><td>20.967777902066913</td><td>19.06485558344176</td><td>7.1578417</td><td>--</td><td>--</td></tr>\n",
       "<tr><td>67679</td><td>0.0</td><td>0.0</td><td>0.0</td><td>0.9031746394430591</td><td>2.8709763698441533</td><td>20.253945455193083</td><td>21.990210548474533</td><td>21.005319539905468</td><td>19.11832218906547</td><td>0.0</td><td>--</td><td>--</td></tr>\n",
       "<tr><td>67680</td><td>0.0</td><td>0.0</td><td>0.0</td><td>0.9527972869199486</td><td>2.183973198109514</td><td>20.033265558674195</td><td>21.974079414911984</td><td>21.00463565548948</td><td>19.136359781174068</td><td>0.0</td><td>--</td><td>--</td></tr>\n",
       "<tr><td>67681</td><td>0.0</td><td>0.0</td><td>0.0</td><td>0.9507191598338869</td><td>2.2193172453875247</td><td>20.218061565792368</td><td>21.984141770313954</td><td>21.029691679011016</td><td>19.17373571059973</td><td>0.0</td><td>--</td><td>--</td></tr>\n",
       "<tr><td>67682</td><td>0.0</td><td>0.0</td><td>0.0</td><td>0.9562083786822335</td><td>1.984629969729699</td><td>20.202504822354022</td><td>21.970702187540937</td><td>21.026567014552832</td><td>19.182125628343407</td><td>0.0</td><td>--</td><td>--</td></tr>\n",
       "<tr><td>67683</td><td>0.0</td><td>0.0</td><td>0.0</td><td>0.9593816691164547</td><td>1.958987337182022</td><td>20.211071197447247</td><td>21.985165548596846</td><td>21.043199719879794</td><td>19.199415786170565</td><td>0.0</td><td>--</td><td>--</td></tr>\n",
       "<tr><td>67684</td><td>0.0</td><td>0.0</td><td>0.0</td><td>0.978166395729116</td><td>1.9761185927634832</td><td>20.213012077803974</td><td>21.981274613992447</td><td>21.033829690050773</td><td>19.196835193759735</td><td>0.0</td><td>--</td><td>--</td></tr>\n",
       "<tr><td>67685</td><td>0.0</td><td>0.0</td><td>0.0</td><td>0.9567281144246651</td><td>1.9975639097347049</td><td>20.21637489510896</td><td>22.010570813576145</td><td>21.055310412499367</td><td>19.21901700879002</td><td>0.0</td><td>--</td><td>--</td></tr>\n",
       "<tr><td>67686</td><td>0.0</td><td>0.0</td><td>0.0</td><td>0.9574311971931043</td><td>2.159358609455105</td><td>20.22896099635877</td><td>22.018361094047165</td><td>21.067962842572513</td><td>19.239374632070636</td><td>0.0</td><td>--</td><td>--</td></tr>\n",
       "<tr><td>67687</td><td>0.0</td><td>0.0</td><td>0.0</td><td>0.951669723039628</td><td>2.220130961558369</td><td>20.21090967929075</td><td>22.0295308357817</td><td>21.075762949527185</td><td>19.255459749951005</td><td>0.0</td><td>--</td><td>--</td></tr>\n",
       "<tr><td>...</td><td>...</td><td>...</td><td>...</td><td>...</td><td>...</td><td>...</td><td>...</td><td>...</td><td>...</td><td>...</td><td>...</td><td>...</td></tr>\n",
       "<tr><td>98060</td><td>1.869027018547058</td><td>1.157779</td><td>0.04917355254292488</td><td>0.9088841845252795</td><td>1.7083064392503897</td><td>20.57675512877956</td><td>20.729976639896638</td><td>20.62047062236885</td><td>19.34227820854179</td><td>54.90231</td><td>0.0009171277607225442</td><td>110.7447895275788</td></tr>\n",
       "<tr><td>98061</td><td>1.5322619676589966</td><td>1.047825</td><td>0.04297346994280815</td><td>0.8999746050951143</td><td>1.5348682215518363</td><td>21.085538487576585</td><td>21.78650593909639</td><td>21.186829717722144</td><td>19.499804684054048</td><td>114.747345</td><td>0.0009344382012125816</td><td>111.48252254464998</td></tr>\n",
       "<tr><td>98062</td><td>0.0</td><td>0.0</td><td>0.035126589238643646</td><td>0.4031700486856702</td><td>2.1828497863804563</td><td>20.98519385958091</td><td>1e+20</td><td>1e+20</td><td>1e+20</td><td>0.0</td><td>0.0009689283036799476</td><td>112.25813208688697</td></tr>\n",
       "<tr><td>98063</td><td>1.863860011100769</td><td>1.202465</td><td>0.009743289090692997</td><td>0.6593625244628543</td><td>1.8006506942972114</td><td>21.1337467259341</td><td>22.139669897712334</td><td>21.18840873581034</td><td>19.508612337518937</td><td>210.4318</td><td>0.0010309062503500344</td><td>73.55235668457726</td></tr>\n",
       "<tr><td>98064</td><td>1.863860011100769</td><td>1.257773</td><td>0.009743289090692997</td><td>0.7280815651045056</td><td>1.8190103793152292</td><td>21.064701180660066</td><td>22.156303097522752</td><td>21.170006155386854</td><td>19.426787466774762</td><td>42.923183</td><td>0.0010693193366362226</td><td>73.55236734537596</td></tr>\n",
       "<tr><td>98065</td><td>1.3286219835281372</td><td>1.003564</td><td>0.020572833716869354</td><td>0.9113439779102812</td><td>1.5250489248330703</td><td>21.42711967537739</td><td>22.422285760856532</td><td>21.510158138591635</td><td>19.670035911567602</td><td>265.1308</td><td>0.0011092995154811554</td><td>108.42281220517465</td></tr>\n",
       "<tr><td>98066</td><td>1.5384420156478882</td><td>1.012705</td><td>0.016557782888412476</td><td>0.9402062232345167</td><td>1.3956305505009627</td><td>21.41111260750814</td><td>22.42218147638614</td><td>21.516593777718786</td><td>19.608427856043996</td><td>219.12538</td><td>0.0011403639815181846</td><td>105.75202255869199</td></tr>\n",
       "<tr><td>98067</td><td>1.5751819610595703</td><td>1.00779</td><td>0.016173481941223145</td><td>0.9518044086275428</td><td>1.288053448632624</td><td>21.442237395794507</td><td>22.44364303477939</td><td>21.545303377110677</td><td>19.563425052239353</td><td>211.49832</td><td>0.0011669220700363206</td><td>108.99084797547637</td></tr>\n",
       "<tr><td>98068</td><td>0.0</td><td>0.0</td><td>0.08577289432287216</td><td>0.5473561497298427</td><td>1.3395697163086429</td><td>21.108468959510226</td><td>1e+20</td><td>1e+20</td><td>1e+20</td><td>0.0</td><td>0.0012306182390650472</td><td>128.52415159131266</td></tr>\n",
       "<tr><td>98069</td><td>0.0</td><td>0.0</td><td>0.08577289432287216</td><td>0.3079941772485105</td><td>1.1467371192689695</td><td>20.99330650097509</td><td>1e+20</td><td>1e+20</td><td>1e+20</td><td>0.0</td><td>0.0013193038633848779</td><td>128.5241742901185</td></tr>\n",
       "</table>"
      ],
      "text/plain": [
       "<Table length=3912>\n",
       "EXPID     SEEING_ETC     AIRMASS  ...   MOON_ILLUMINATION      MOON_SEP_DEG   \n",
       "int64      float64       float32  ...        float64             float64      \n",
       "----- ------------------ -------- ... --------------------- ------------------\n",
       "67678                0.0 1.023959 ...                    --                 --\n",
       "67679                0.0      0.0 ...                    --                 --\n",
       "67680                0.0      0.0 ...                    --                 --\n",
       "67681                0.0      0.0 ...                    --                 --\n",
       "67682                0.0      0.0 ...                    --                 --\n",
       "67683                0.0      0.0 ...                    --                 --\n",
       "67684                0.0      0.0 ...                    --                 --\n",
       "67685                0.0      0.0 ...                    --                 --\n",
       "67686                0.0      0.0 ...                    --                 --\n",
       "67687                0.0      0.0 ...                    --                 --\n",
       "  ...                ...      ... ...                   ...                ...\n",
       "98060  1.869027018547058 1.157779 ... 0.0009171277607225442  110.7447895275788\n",
       "98061 1.5322619676589966 1.047825 ... 0.0009344382012125816 111.48252254464998\n",
       "98062                0.0      0.0 ... 0.0009689283036799476 112.25813208688697\n",
       "98063  1.863860011100769 1.202465 ... 0.0010309062503500344  73.55235668457726\n",
       "98064  1.863860011100769 1.257773 ... 0.0010693193366362226  73.55236734537596\n",
       "98065 1.3286219835281372 1.003564 ... 0.0011092995154811554 108.42281220517465\n",
       "98066 1.5384420156478882 1.012705 ... 0.0011403639815181846 105.75202255869199\n",
       "98067 1.5751819610595703  1.00779 ... 0.0011669220700363206 108.99084797547637\n",
       "98068                0.0      0.0 ... 0.0012306182390650472 128.52415159131266\n",
       "98069                0.0      0.0 ... 0.0013193038633848779  128.5241742901185"
      ]
     },
     "execution_count": 61,
     "metadata": {},
     "output_type": "execute_result"
    }
   ],
   "source": [
    "exposures = join(exposures, gfa_data, keys='EXPID', join_type='left')\n",
    "exposures"
   ]
  },
  {
   "cell_type": "code",
   "execution_count": 62,
   "id": "f80d25c8-2bdb-46e7-aebc-1c53d3e30ec3",
   "metadata": {},
   "outputs": [
    {
     "data": {
      "text/plain": [
       "[338, 2977, 22109, 20393, 263, 1212, 334, 6373, 22982, 10315]"
      ]
     },
     "execution_count": 62,
     "metadata": {},
     "output_type": "execute_result"
    }
   ],
   "source": [
    "# Should apply sorted to glob.glob.\n",
    "ntile = 10\n",
    "\n",
    "tiles = [np.int(x.split('/')[-1]) for x in glob.glob('/global/cfs/cdirs/desi/spectro/redux/daily/tiles/cumulative/*')]\n",
    "tiles = tiles[:ntile]\n",
    "tiles"
   ]
  },
  {
   "cell_type": "code",
   "execution_count": 63,
   "id": "1648aac5-25ed-4c0c-b3b8-827bee872790",
   "metadata": {},
   "outputs": [
    {
     "name": "stdout",
     "output_type": "stream",
     "text": [
      "Missing TILEID 22109\n",
      "Missing TILEID 6373\n",
      "Missing TILEID 22982\n",
      "Missing TILEID 10315\n"
     ]
    }
   ],
   "source": [
    "post_shutdown_coadd_fpaths = []\n",
    "\n",
    "for tid in tiles:\n",
    "    '''\n",
    "    Retrieve coadd paths for all tiles & the latest thru_night.  \n",
    "    '''\n",
    "    \n",
    "    fpaths = sorted(glob.glob('{}/tiles/cumulative/{:d}/*'.format(everest, tid)))\n",
    "    \n",
    "    if len(fpaths) > 1:\n",
    "        nights = np.array([x.split('/')[-1] for x in fpaths]).astype(np.int)\n",
    "        \n",
    "        # print(np.sort(nights))\n",
    "        \n",
    "        assert np.all(nights == np.sort(nights))\n",
    "     \n",
    "    if len(fpaths) > 0:\n",
    "        # We'll take the deepest only here. \n",
    "        fpath = fpaths[-1]\n",
    "    \n",
    "    else:\n",
    "        print('Missing TILEID {:d}'.format(tid))\n",
    "        \n",
    "    # print(fpath)\n",
    "    \n",
    "    deepestnight = fpath.split('/')[-1]\n",
    "    \n",
    "    fpaths = sorted(glob.glob(fpath + '/' + 'coadd-?-{:d}-thru{}.fits'.format(tid, deepestnight)))\n",
    "    '''\n",
    "    for x in fpaths:\n",
    "        print(x)\n",
    "    '''\n",
    "    post_shutdown_coadd_fpaths += [x for x in fpaths]"
   ]
  },
  {
   "cell_type": "code",
   "execution_count": 64,
   "id": "6ee7a446-e098-47eb-bcc4-2c47a79cf2d6",
   "metadata": {},
   "outputs": [
    {
     "data": {
      "text/plain": [
       "['/global/cfs/cdirs/desi/spectro/redux/everest//tiles/cumulative/338/20210414/coadd-0-338-thru20210414.fits',\n",
       " '/global/cfs/cdirs/desi/spectro/redux/everest//tiles/cumulative/338/20210414/coadd-1-338-thru20210414.fits',\n",
       " '/global/cfs/cdirs/desi/spectro/redux/everest//tiles/cumulative/338/20210414/coadd-2-338-thru20210414.fits',\n",
       " '/global/cfs/cdirs/desi/spectro/redux/everest//tiles/cumulative/338/20210414/coadd-3-338-thru20210414.fits',\n",
       " '/global/cfs/cdirs/desi/spectro/redux/everest//tiles/cumulative/338/20210414/coadd-4-338-thru20210414.fits',\n",
       " '/global/cfs/cdirs/desi/spectro/redux/everest//tiles/cumulative/338/20210414/coadd-5-338-thru20210414.fits',\n",
       " '/global/cfs/cdirs/desi/spectro/redux/everest//tiles/cumulative/338/20210414/coadd-6-338-thru20210414.fits',\n",
       " '/global/cfs/cdirs/desi/spectro/redux/everest//tiles/cumulative/338/20210414/coadd-7-338-thru20210414.fits',\n",
       " '/global/cfs/cdirs/desi/spectro/redux/everest//tiles/cumulative/338/20210414/coadd-8-338-thru20210414.fits',\n",
       " '/global/cfs/cdirs/desi/spectro/redux/everest//tiles/cumulative/338/20210414/coadd-9-338-thru20210414.fits',\n",
       " '/global/cfs/cdirs/desi/spectro/redux/everest//tiles/cumulative/2977/20210708/coadd-0-2977-thru20210708.fits',\n",
       " '/global/cfs/cdirs/desi/spectro/redux/everest//tiles/cumulative/2977/20210708/coadd-1-2977-thru20210708.fits']"
      ]
     },
     "execution_count": 64,
     "metadata": {},
     "output_type": "execute_result"
    }
   ],
   "source": [
    "post_shutdown_coadd_fpaths[:12]"
   ]
  },
  {
   "cell_type": "code",
   "execution_count": 65,
   "id": "633bf6a5-d0d1-4f13-8f39-6b03fa94de11",
   "metadata": {},
   "outputs": [],
   "source": [
    "def process_coadd(coadd_fpath):\n",
    "    '''\n",
    "    Retrieve the input expids for each location on a given (tileid, thru_night).\n",
    "    \n",
    "    Note:  \n",
    "        assuming input expids may differ by location due to quality cuts.  We \n",
    "        run round this later by processing simulatenously all locs with the same\n",
    "        input expids.\n",
    "    '''\n",
    "    tileid     = coadd_fpath.split('/')[-3]\n",
    "    thru_night = coadd_fpath.split('/')[-2]\n",
    " \n",
    "    coadd      = Table.read(coadd_fpath, hdu='EXP_FIBERMAP')\n",
    "    # coadd\n",
    "    \n",
    "    expids, cnts = np.unique(coadd['EXPID'], return_counts=True) \n",
    "    \n",
    "    # print(len(expids))\n",
    "    \n",
    "    condition_cat = coadd['TARGETID', 'LOCATION']\n",
    "    condition_cat = unique(condition_cat)\n",
    "    condition_cat.sort('LOCATION')\n",
    "\n",
    "    condition_cat['TILEID']     = tileid\n",
    "    condition_cat['THRU_NIGHT'] = thru_night\n",
    "    condition_cat['IN_EXPIDS']  = 'x' * 50\n",
    "    \n",
    "    locs           = np.unique(condition_cat['LOCATION'].data)\n",
    "\n",
    "    for i, loc in enumerate(locs):\n",
    "        coadd_loc  = coadd[(coadd['LOCATION'] == loc) & (coadd['FIBERSTATUS'] == 0)]\n",
    "\n",
    "        # Here apply a fiber-status cut?        \n",
    "        loc_expids = '-'.join(np.unique(coadd_loc['EXPID'].data).astype(str).tolist())\n",
    "        \n",
    "        condition_cat['IN_EXPIDS'][i] = loc_expids\n",
    "          \n",
    "        # print(i, loc_expids)\n",
    "            \n",
    "    return condition_cat"
   ]
  },
  {
   "cell_type": "code",
   "execution_count": 66,
   "id": "09817db8-2ad8-4e6c-b3d5-25f06862fdf2",
   "metadata": {},
   "outputs": [
    {
     "data": {
      "text/plain": [
       "['/global/cfs/cdirs/desi/spectro/redux/everest//tiles/cumulative/338/20210414/coadd-0-338-thru20210414.fits',\n",
       " '/global/cfs/cdirs/desi/spectro/redux/everest//tiles/cumulative/338/20210414/coadd-1-338-thru20210414.fits',\n",
       " '/global/cfs/cdirs/desi/spectro/redux/everest//tiles/cumulative/338/20210414/coadd-2-338-thru20210414.fits',\n",
       " '/global/cfs/cdirs/desi/spectro/redux/everest//tiles/cumulative/338/20210414/coadd-3-338-thru20210414.fits',\n",
       " '/global/cfs/cdirs/desi/spectro/redux/everest//tiles/cumulative/338/20210414/coadd-4-338-thru20210414.fits',\n",
       " '/global/cfs/cdirs/desi/spectro/redux/everest//tiles/cumulative/338/20210414/coadd-5-338-thru20210414.fits',\n",
       " '/global/cfs/cdirs/desi/spectro/redux/everest//tiles/cumulative/338/20210414/coadd-6-338-thru20210414.fits',\n",
       " '/global/cfs/cdirs/desi/spectro/redux/everest//tiles/cumulative/338/20210414/coadd-7-338-thru20210414.fits',\n",
       " '/global/cfs/cdirs/desi/spectro/redux/everest//tiles/cumulative/338/20210414/coadd-8-338-thru20210414.fits',\n",
       " '/global/cfs/cdirs/desi/spectro/redux/everest//tiles/cumulative/338/20210414/coadd-9-338-thru20210414.fits',\n",
       " '/global/cfs/cdirs/desi/spectro/redux/everest//tiles/cumulative/2977/20210708/coadd-0-2977-thru20210708.fits',\n",
       " '/global/cfs/cdirs/desi/spectro/redux/everest//tiles/cumulative/2977/20210708/coadd-1-2977-thru20210708.fits',\n",
       " '/global/cfs/cdirs/desi/spectro/redux/everest//tiles/cumulative/2977/20210708/coadd-2-2977-thru20210708.fits',\n",
       " '/global/cfs/cdirs/desi/spectro/redux/everest//tiles/cumulative/2977/20210708/coadd-3-2977-thru20210708.fits',\n",
       " '/global/cfs/cdirs/desi/spectro/redux/everest//tiles/cumulative/2977/20210708/coadd-4-2977-thru20210708.fits',\n",
       " '/global/cfs/cdirs/desi/spectro/redux/everest//tiles/cumulative/2977/20210708/coadd-5-2977-thru20210708.fits',\n",
       " '/global/cfs/cdirs/desi/spectro/redux/everest//tiles/cumulative/2977/20210708/coadd-6-2977-thru20210708.fits',\n",
       " '/global/cfs/cdirs/desi/spectro/redux/everest//tiles/cumulative/2977/20210708/coadd-7-2977-thru20210708.fits',\n",
       " '/global/cfs/cdirs/desi/spectro/redux/everest//tiles/cumulative/2977/20210708/coadd-8-2977-thru20210708.fits',\n",
       " '/global/cfs/cdirs/desi/spectro/redux/everest//tiles/cumulative/2977/20210708/coadd-9-2977-thru20210708.fits',\n",
       " '/global/cfs/cdirs/desi/spectro/redux/everest//tiles/cumulative/20393/20210523/coadd-0-20393-thru20210523.fits',\n",
       " '/global/cfs/cdirs/desi/spectro/redux/everest//tiles/cumulative/20393/20210523/coadd-1-20393-thru20210523.fits',\n",
       " '/global/cfs/cdirs/desi/spectro/redux/everest//tiles/cumulative/20393/20210523/coadd-2-20393-thru20210523.fits',\n",
       " '/global/cfs/cdirs/desi/spectro/redux/everest//tiles/cumulative/20393/20210523/coadd-3-20393-thru20210523.fits',\n",
       " '/global/cfs/cdirs/desi/spectro/redux/everest//tiles/cumulative/20393/20210523/coadd-4-20393-thru20210523.fits',\n",
       " '/global/cfs/cdirs/desi/spectro/redux/everest//tiles/cumulative/20393/20210523/coadd-5-20393-thru20210523.fits',\n",
       " '/global/cfs/cdirs/desi/spectro/redux/everest//tiles/cumulative/20393/20210523/coadd-6-20393-thru20210523.fits',\n",
       " '/global/cfs/cdirs/desi/spectro/redux/everest//tiles/cumulative/20393/20210523/coadd-7-20393-thru20210523.fits',\n",
       " '/global/cfs/cdirs/desi/spectro/redux/everest//tiles/cumulative/20393/20210523/coadd-8-20393-thru20210523.fits',\n",
       " '/global/cfs/cdirs/desi/spectro/redux/everest//tiles/cumulative/20393/20210523/coadd-9-20393-thru20210523.fits',\n",
       " '/global/cfs/cdirs/desi/spectro/redux/everest//tiles/cumulative/263/20210504/coadd-0-263-thru20210504.fits',\n",
       " '/global/cfs/cdirs/desi/spectro/redux/everest//tiles/cumulative/263/20210504/coadd-1-263-thru20210504.fits',\n",
       " '/global/cfs/cdirs/desi/spectro/redux/everest//tiles/cumulative/263/20210504/coadd-2-263-thru20210504.fits',\n",
       " '/global/cfs/cdirs/desi/spectro/redux/everest//tiles/cumulative/263/20210504/coadd-3-263-thru20210504.fits',\n",
       " '/global/cfs/cdirs/desi/spectro/redux/everest//tiles/cumulative/263/20210504/coadd-4-263-thru20210504.fits',\n",
       " '/global/cfs/cdirs/desi/spectro/redux/everest//tiles/cumulative/263/20210504/coadd-5-263-thru20210504.fits',\n",
       " '/global/cfs/cdirs/desi/spectro/redux/everest//tiles/cumulative/263/20210504/coadd-6-263-thru20210504.fits',\n",
       " '/global/cfs/cdirs/desi/spectro/redux/everest//tiles/cumulative/263/20210504/coadd-7-263-thru20210504.fits',\n",
       " '/global/cfs/cdirs/desi/spectro/redux/everest//tiles/cumulative/263/20210504/coadd-8-263-thru20210504.fits',\n",
       " '/global/cfs/cdirs/desi/spectro/redux/everest//tiles/cumulative/263/20210504/coadd-9-263-thru20210504.fits',\n",
       " '/global/cfs/cdirs/desi/spectro/redux/everest//tiles/cumulative/1212/20210530/coadd-0-1212-thru20210530.fits',\n",
       " '/global/cfs/cdirs/desi/spectro/redux/everest//tiles/cumulative/1212/20210530/coadd-1-1212-thru20210530.fits',\n",
       " '/global/cfs/cdirs/desi/spectro/redux/everest//tiles/cumulative/1212/20210530/coadd-2-1212-thru20210530.fits',\n",
       " '/global/cfs/cdirs/desi/spectro/redux/everest//tiles/cumulative/1212/20210530/coadd-3-1212-thru20210530.fits',\n",
       " '/global/cfs/cdirs/desi/spectro/redux/everest//tiles/cumulative/1212/20210530/coadd-4-1212-thru20210530.fits',\n",
       " '/global/cfs/cdirs/desi/spectro/redux/everest//tiles/cumulative/1212/20210530/coadd-5-1212-thru20210530.fits',\n",
       " '/global/cfs/cdirs/desi/spectro/redux/everest//tiles/cumulative/1212/20210530/coadd-6-1212-thru20210530.fits',\n",
       " '/global/cfs/cdirs/desi/spectro/redux/everest//tiles/cumulative/1212/20210530/coadd-7-1212-thru20210530.fits',\n",
       " '/global/cfs/cdirs/desi/spectro/redux/everest//tiles/cumulative/1212/20210530/coadd-8-1212-thru20210530.fits',\n",
       " '/global/cfs/cdirs/desi/spectro/redux/everest//tiles/cumulative/1212/20210530/coadd-9-1212-thru20210530.fits',\n",
       " '/global/cfs/cdirs/desi/spectro/redux/everest//tiles/cumulative/334/20210419/coadd-0-334-thru20210419.fits',\n",
       " '/global/cfs/cdirs/desi/spectro/redux/everest//tiles/cumulative/334/20210419/coadd-1-334-thru20210419.fits',\n",
       " '/global/cfs/cdirs/desi/spectro/redux/everest//tiles/cumulative/334/20210419/coadd-2-334-thru20210419.fits',\n",
       " '/global/cfs/cdirs/desi/spectro/redux/everest//tiles/cumulative/334/20210419/coadd-3-334-thru20210419.fits',\n",
       " '/global/cfs/cdirs/desi/spectro/redux/everest//tiles/cumulative/334/20210419/coadd-4-334-thru20210419.fits',\n",
       " '/global/cfs/cdirs/desi/spectro/redux/everest//tiles/cumulative/334/20210419/coadd-5-334-thru20210419.fits',\n",
       " '/global/cfs/cdirs/desi/spectro/redux/everest//tiles/cumulative/334/20210419/coadd-6-334-thru20210419.fits',\n",
       " '/global/cfs/cdirs/desi/spectro/redux/everest//tiles/cumulative/334/20210419/coadd-7-334-thru20210419.fits',\n",
       " '/global/cfs/cdirs/desi/spectro/redux/everest//tiles/cumulative/334/20210419/coadd-8-334-thru20210419.fits',\n",
       " '/global/cfs/cdirs/desi/spectro/redux/everest//tiles/cumulative/334/20210419/coadd-9-334-thru20210419.fits',\n",
       " '/global/cfs/cdirs/desi/spectro/redux/everest/tiles/cumulative/10/20210503/coadd-0-10-thru20210503.fits']"
      ]
     },
     "execution_count": 66,
     "metadata": {},
     "output_type": "execute_result"
    }
   ],
   "source": [
    "to_process    = post_shutdown_coadd_fpaths\n",
    "\n",
    "# Add a codd with NEXP>1.\n",
    "to_process   += ['/global/cfs/cdirs/desi/spectro/redux/everest/tiles/cumulative/10/20210503/coadd-0-10-thru20210503.fits']\n",
    "to_process"
   ]
  },
  {
   "cell_type": "code",
   "execution_count": 67,
   "id": "3bcfd5f3-6792-4a63-b3f6-e2a303016f6b",
   "metadata": {},
   "outputs": [
    {
     "data": {
      "text/html": [
       "<i>Table length=30500</i>\n",
       "<table id=\"table46913194899776\" class=\"table-striped table-bordered table-condensed\">\n",
       "<thead><tr><th>TARGETID</th><th>LOCATION</th><th>TILEID</th><th>THRU_NIGHT</th><th>IN_EXPIDS</th></tr></thead>\n",
       "<thead><tr><th>int64</th><th>int64</th><th>str5</th><th>str8</th><th>str50</th></tr></thead>\n",
       "<tr><td>39633136501393626</td><td>0</td><td>338</td><td>20210414</td><td>84821</td></tr>\n",
       "<tr><td>39633136501393765</td><td>1</td><td>338</td><td>20210414</td><td>84821</td></tr>\n",
       "<tr><td>39633136501393084</td><td>2</td><td>338</td><td>20210414</td><td>84821</td></tr>\n",
       "<tr><td>39633136501394535</td><td>3</td><td>338</td><td>20210414</td><td>84821</td></tr>\n",
       "<tr><td>39633136501393336</td><td>4</td><td>338</td><td>20210414</td><td>84821</td></tr>\n",
       "<tr><td>39633132084791218</td><td>5</td><td>338</td><td>20210414</td><td>84821</td></tr>\n",
       "<tr><td>39633132084790141</td><td>6</td><td>338</td><td>20210414</td><td>84821</td></tr>\n",
       "<tr><td>39633132084789965</td><td>7</td><td>338</td><td>20210414</td><td>84821</td></tr>\n",
       "<tr><td>616093884388213557</td><td>8</td><td>338</td><td>20210414</td><td>84821</td></tr>\n",
       "<tr><td>39633132084790762</td><td>9</td><td>338</td><td>20210414</td><td>84821</td></tr>\n",
       "<tr><td>...</td><td>...</td><td>...</td><td>...</td><td>...</td></tr>\n",
       "<tr><td>39627799316665108</td><td>512</td><td>10</td><td>20210503</td><td>87103-87104-87105</td></tr>\n",
       "<tr><td>39627799325049282</td><td>518</td><td>10</td><td>20210503</td><td>87103-87104-87105</td></tr>\n",
       "<tr><td>39627799320859457</td><td>519</td><td>10</td><td>20210503</td><td>87103-87104-87105</td></tr>\n",
       "<tr><td>39627799320858641</td><td>520</td><td>10</td><td>20210503</td><td>87103-87104-87105</td></tr>\n",
       "<tr><td>39627799320857364</td><td>521</td><td>10</td><td>20210503</td><td>87103-87104-87105</td></tr>\n",
       "<tr><td>39627799320856624</td><td>522</td><td>10</td><td>20210503</td><td>87103-87104-87105</td></tr>\n",
       "<tr><td>-50723</td><td>523</td><td>10</td><td>20210503</td><td></td></tr>\n",
       "<tr><td>39627799320854819</td><td>524</td><td>10</td><td>20210503</td><td>87103-87104-87105</td></tr>\n",
       "<tr><td>39627799316665530</td><td>525</td><td>10</td><td>20210503</td><td>87103-87104-87105</td></tr>\n",
       "<tr><td>-50726</td><td>526</td><td>10</td><td>20210503</td><td></td></tr>\n",
       "</table>"
      ],
      "text/plain": [
       "<Table length=30500>\n",
       "     TARGETID      LOCATION TILEID THRU_NIGHT     IN_EXPIDS    \n",
       "      int64         int64    str5     str8          str50      \n",
       "------------------ -------- ------ ---------- -----------------\n",
       " 39633136501393626        0    338   20210414             84821\n",
       " 39633136501393765        1    338   20210414             84821\n",
       " 39633136501393084        2    338   20210414             84821\n",
       " 39633136501394535        3    338   20210414             84821\n",
       " 39633136501393336        4    338   20210414             84821\n",
       " 39633132084791218        5    338   20210414             84821\n",
       " 39633132084790141        6    338   20210414             84821\n",
       " 39633132084789965        7    338   20210414             84821\n",
       "616093884388213557        8    338   20210414             84821\n",
       " 39633132084790762        9    338   20210414             84821\n",
       "               ...      ...    ...        ...               ...\n",
       " 39627799316665108      512     10   20210503 87103-87104-87105\n",
       " 39627799325049282      518     10   20210503 87103-87104-87105\n",
       " 39627799320859457      519     10   20210503 87103-87104-87105\n",
       " 39627799320858641      520     10   20210503 87103-87104-87105\n",
       " 39627799320857364      521     10   20210503 87103-87104-87105\n",
       " 39627799320856624      522     10   20210503 87103-87104-87105\n",
       "            -50723      523     10   20210503                  \n",
       " 39627799320854819      524     10   20210503 87103-87104-87105\n",
       " 39627799316665530      525     10   20210503 87103-87104-87105\n",
       "            -50726      526     10   20210503                  "
      ]
     },
     "execution_count": 67,
     "metadata": {},
     "output_type": "execute_result"
    }
   ],
   "source": [
    "condition_cat = [process_coadd(x) for x in to_process]\n",
    "condition_cat = vstack(condition_cat)\n",
    "condition_cat"
   ]
  },
  {
   "cell_type": "code",
   "execution_count": 68,
   "id": "f84e1c1d-eac2-43d9-8d1f-7c8ef1d1d4be",
   "metadata": {},
   "outputs": [
    {
     "name": "stdout",
     "output_type": "stream",
     "text": [
      "['84821']\n",
      "['84821', '97946-97947']\n",
      "['84821', '97946-97947', '89875']\n",
      "['84821', '97946-97947', '89875', '87254']\n",
      "['84821', '97946-97947', '89875', '87254', '90406-90407']\n",
      "['84821', '97946-97947', '89875', '87254', '90406-90407', '85512']\n",
      "['84821', '97946-97947', '89875', '87254', '90406-90407', '85512', '87103-87104-87105']\n"
     ]
    }
   ],
   "source": [
    "processed     = []\n",
    "\n",
    "update_cols   = list(exposures.dtype.names)\n",
    "update_cols.remove('EXPID')\n",
    "update_cols.remove('EFFTIME_SPEC')\n",
    "\n",
    "for col in update_cols:\n",
    "    condition_cat[col] = -99.\n",
    "\n",
    "for row in condition_cat:\n",
    "    if row['IN_EXPIDS'] not in processed:\n",
    "        if len(row['IN_EXPIDS']) == 0:\n",
    "            ##  Empty string, e.g. no input expids for negative targetids. \n",
    "            ##  Already defaults to -99. \n",
    "            continue\n",
    "            \n",
    "        expids        = np.array(row['IN_EXPIDS'].split('-'))\n",
    "        \n",
    "        expids        = np.array(row['IN_EXPIDS'].split('-')).astype(np.int)\n",
    "\n",
    "        in_exposures  = exposures[np.isin(exposures['EXPID'].data, expids)]\n",
    "\n",
    "        # print(expids)\n",
    "        # print(in_exposures)\n",
    "        \n",
    "        mean_function = lambda x: np.average(x, weights=in_exposures['EFFTIME_SPEC'])\n",
    "        \n",
    "        in_exposures               = in_exposures.groups.aggregate(mean_function)\n",
    "        in_exposures['IN_EXPIDS']  = row['IN_EXPIDS']\n",
    "        \n",
    "        del  in_exposures['EXPID']\n",
    "        del  in_exposures['EFFTIME_SPEC']\n",
    "\n",
    "        #  To be extra sure, we could include matches to TILEID and thru night.     \n",
    "        to_update                  = condition_cat['IN_EXPIDS'] == row['IN_EXPIDS']\n",
    "                \n",
    "        for col in update_cols:\n",
    "            condition_cat[col].data[to_update] = in_exposures[col].data[0]\n",
    "        \n",
    "        processed.append(row['IN_EXPIDS'])\n",
    "    \n",
    "        print(processed)\n",
    "        \n",
    "condition_cat.sort(['TILEID', 'THRU_NIGHT', 'LOCATION'])"
   ]
  },
  {
   "cell_type": "code",
   "execution_count": 69,
   "id": "85c718b6-293f-47ce-a73a-d35147b02fc2",
   "metadata": {},
   "outputs": [
    {
     "data": {
      "text/html": [
       "<i>Table length=4</i>\n",
       "<table id=\"table46913194340064\" class=\"table-striped table-bordered table-condensed\">\n",
       "<thead><tr><th>EXPID</th><th>SEEING_ETC</th><th>AIRMASS</th><th>EBV</th><th>TRANSPARENCY_GFA</th><th>SEEING_GFA</th><th>SKY_MAG_AB_GFA</th><th>SKY_MAG_G_SPEC</th><th>SKY_MAG_R_SPEC</th><th>SKY_MAG_Z_SPEC</th><th>EFFTIME_SPEC</th><th>MOON_ILLUMINATION</th><th>MOON_SEP_DEG</th></tr></thead>\n",
       "<thead><tr><th>int64</th><th>float64</th><th>float32</th><th>float64</th><th>float64</th><th>float64</th><th>float64</th><th>float64</th><th>float64</th><th>float64</th><th>float32</th><th>float64</th><th>float64</th></tr></thead>\n",
       "<tr><td>84821</td><td>1.0429749488830566</td><td>1.021125</td><td>0.012264582328498363</td><td>0.6561105241107569</td><td>1.203344152557492</td><td>21.43737021851402</td><td>22.314847476552213</td><td>21.266628059680638</td><td>19.32414438845032</td><td>221.18857</td><td>0.095590784304443</td><td>118.64539430432494</td></tr>\n",
       "<tr><td>87103</td><td>1.2934579849243164</td><td>1.278895</td><td>0.02310332842171192</td><td>1.0041470330873352</td><td>1.371289271220244</td><td>20.955625230974057</td><td>21.923068248181387</td><td>21.01512837361571</td><td>19.1370381394</td><td>557.0613</td><td>0.46312256854757394</td><td>159.15792995199234</td></tr>\n",
       "<tr><td>87104</td><td>1.2934579849243164</td><td>1.337768</td><td>0.02310332842171192</td><td>1.0169399706068316</td><td>1.322608177199251</td><td>20.92023357471946</td><td>21.88635731486133</td><td>21.004868394711718</td><td>19.124612468336366</td><td>503.99792</td><td>0.46175035133055814</td><td>159.15790713220528</td></tr>\n",
       "<tr><td>87105</td><td>1.2934579849243164</td><td>1.412697</td><td>0.02310332842171192</td><td>1.015957334617163</td><td>1.4874657628095873</td><td>20.918823289701905</td><td>21.860359708803173</td><td>20.983855227270976</td><td>19.072755906275862</td><td>273.28214</td><td>0.4604148142421023</td><td>159.15789044015847</td></tr>\n",
       "</table>"
      ],
      "text/plain": [
       "<Table length=4>\n",
       "EXPID     SEEING_ETC     AIRMASS  ...  MOON_ILLUMINATION     MOON_SEP_DEG   \n",
       "int64      float64       float32  ...       float64            float64      \n",
       "----- ------------------ -------- ... ------------------- ------------------\n",
       "84821 1.0429749488830566 1.021125 ...   0.095590784304443 118.64539430432494\n",
       "87103 1.2934579849243164 1.278895 ... 0.46312256854757394 159.15792995199234\n",
       "87104 1.2934579849243164 1.337768 ... 0.46175035133055814 159.15790713220528\n",
       "87105 1.2934579849243164 1.412697 ...  0.4604148142421023 159.15789044015847"
      ]
     },
     "execution_count": 69,
     "metadata": {},
     "output_type": "execute_result"
    }
   ],
   "source": [
    "exposures[np.isin(exposures['EXPID'].data, [87103, 87104, 87105, 84821])]"
   ]
  },
  {
   "cell_type": "code",
   "execution_count": 70,
   "id": "f4babc9e-85be-4a1f-9237-dc30c4045822",
   "metadata": {},
   "outputs": [
    {
     "data": {
      "text/html": [
       "<i>Table length=30500</i>\n",
       "<table id=\"table46913194337376\" class=\"table-striped table-bordered table-condensed\">\n",
       "<thead><tr><th>TARGETID</th><th>LOCATION</th><th>TILEID</th><th>THRU_NIGHT</th><th>IN_EXPIDS</th><th>SEEING_ETC</th><th>AIRMASS</th><th>EBV</th><th>TRANSPARENCY_GFA</th><th>SEEING_GFA</th><th>SKY_MAG_AB_GFA</th><th>SKY_MAG_G_SPEC</th><th>SKY_MAG_R_SPEC</th><th>SKY_MAG_Z_SPEC</th><th>MOON_ILLUMINATION</th><th>MOON_SEP_DEG</th></tr></thead>\n",
       "<thead><tr><th>int64</th><th>int64</th><th>str5</th><th>str8</th><th>str50</th><th>float64</th><th>float64</th><th>float64</th><th>float64</th><th>float64</th><th>float64</th><th>float64</th><th>float64</th><th>float64</th><th>float64</th><th>float64</th></tr></thead>\n",
       "<tr><td>-1706286</td><td>9526</td><td>338</td><td>20210414</td><td></td><td>-99.0</td><td>-99.0</td><td>-99.0</td><td>-99.0</td><td>-99.0</td><td>-99.0</td><td>-99.0</td><td>-99.0</td><td>-99.0</td><td>-99.0</td><td>-99.0</td></tr>\n",
       "<tr><td>39633114246415067</td><td>9525</td><td>338</td><td>20210414</td><td>84821</td><td>1.0429749488830566</td><td>1.0211249589920044</td><td>0.012264582328498363</td><td>0.6561105241107569</td><td>1.203344152557492</td><td>21.43737021851402</td><td>22.314847476552213</td><td>21.266628059680638</td><td>19.32414438845032</td><td>0.095590784304443</td><td>118.64539430432494</td></tr>\n",
       "<tr><td>39633114246415512</td><td>9524</td><td>338</td><td>20210414</td><td>84821</td><td>1.0429749488830566</td><td>1.0211249589920044</td><td>0.012264582328498363</td><td>0.6561105241107569</td><td>1.203344152557492</td><td>21.43737021851402</td><td>22.314847476552213</td><td>21.266628059680638</td><td>19.32414438845032</td><td>0.095590784304443</td><td>118.64539430432494</td></tr>\n",
       "<tr><td>39633114246416060</td><td>9523</td><td>338</td><td>20210414</td><td>84821</td><td>1.0429749488830566</td><td>1.0211249589920044</td><td>0.012264582328498363</td><td>0.6561105241107569</td><td>1.203344152557492</td><td>21.43737021851402</td><td>22.314847476552213</td><td>21.266628059680638</td><td>19.32414438845032</td><td>0.095590784304443</td><td>118.64539430432494</td></tr>\n",
       "<tr><td>39633114246416725</td><td>9522</td><td>338</td><td>20210414</td><td>84821</td><td>1.0429749488830566</td><td>1.0211249589920044</td><td>0.012264582328498363</td><td>0.6561105241107569</td><td>1.203344152557492</td><td>21.43737021851402</td><td>22.314847476552213</td><td>21.266628059680638</td><td>19.32414438845032</td><td>0.095590784304443</td><td>118.64539430432494</td></tr>\n",
       "<tr><td>39633114246417142</td><td>9521</td><td>338</td><td>20210414</td><td>84821</td><td>1.0429749488830566</td><td>1.0211249589920044</td><td>0.012264582328498363</td><td>0.6561105241107569</td><td>1.203344152557492</td><td>21.43737021851402</td><td>22.314847476552213</td><td>21.266628059680638</td><td>19.32414438845032</td><td>0.095590784304443</td><td>118.64539430432494</td></tr>\n",
       "<tr><td>39633114246418257</td><td>9520</td><td>338</td><td>20210414</td><td>84821</td><td>1.0429749488830566</td><td>1.0211249589920044</td><td>0.012264582328498363</td><td>0.6561105241107569</td><td>1.203344152557492</td><td>21.43737021851402</td><td>22.314847476552213</td><td>21.266628059680638</td><td>19.32414438845032</td><td>0.095590784304443</td><td>118.64539430432494</td></tr>\n",
       "<tr><td>39633114246418602</td><td>9519</td><td>338</td><td>20210414</td><td>84821</td><td>1.0429749488830566</td><td>1.0211249589920044</td><td>0.012264582328498363</td><td>0.6561105241107569</td><td>1.203344152557492</td><td>21.43737021851402</td><td>22.314847476552213</td><td>21.266628059680638</td><td>19.32414438845032</td><td>0.095590784304443</td><td>118.64539430432494</td></tr>\n",
       "<tr><td>-1706278</td><td>9518</td><td>338</td><td>20210414</td><td></td><td>-99.0</td><td>-99.0</td><td>-99.0</td><td>-99.0</td><td>-99.0</td><td>-99.0</td><td>-99.0</td><td>-99.0</td><td>-99.0</td><td>-99.0</td><td>-99.0</td></tr>\n",
       "<tr><td>39633114242223583</td><td>9512</td><td>338</td><td>20210414</td><td>84821</td><td>1.0429749488830566</td><td>1.0211249589920044</td><td>0.012264582328498363</td><td>0.6561105241107569</td><td>1.203344152557492</td><td>21.43737021851402</td><td>22.314847476552213</td><td>21.266628059680638</td><td>19.32414438845032</td><td>0.095590784304443</td><td>118.64539430432494</td></tr>\n",
       "<tr><td>...</td><td>...</td><td>...</td><td>...</td><td>...</td><td>...</td><td>...</td><td>...</td><td>...</td><td>...</td><td>...</td><td>...</td><td>...</td><td>...</td><td>...</td><td>...</td></tr>\n",
       "<tr><td>39627829524038056</td><td>9</td><td>10</td><td>20210503</td><td>87103-87104-87105</td><td>1.2934579849243164</td><td>1.3285356760025024</td><td>0.02310332842171192</td><td>1.0113979201696512</td><td>1.3766955260399305</td><td>20.934720059580915</td><td>21.89635892224586</td><td>21.00484809534235</td><td>19.119179366953055</td><td>0.4620496980117695</td><td>159.15791324037366</td></tr>\n",
       "<tr><td>39627829524039452</td><td>8</td><td>10</td><td>20210503</td><td>87103-87104-87105</td><td>1.2934579849243164</td><td>1.3285356760025024</td><td>0.02310332842171192</td><td>1.0113979201696512</td><td>1.3766955260399305</td><td>20.934720059580915</td><td>21.89635892224586</td><td>21.00484809534235</td><td>19.119179366953055</td><td>0.4620496980117695</td><td>159.15791324037366</td></tr>\n",
       "<tr><td>39627835559645813</td><td>7</td><td>10</td><td>20210503</td><td>87103-87104-87105</td><td>1.2934579849243164</td><td>1.3285356760025024</td><td>0.02310332842171192</td><td>1.0113979201696512</td><td>1.3766955260399305</td><td>20.934720059580915</td><td>21.89635892224586</td><td>21.00484809534235</td><td>19.119179366953055</td><td>0.4620496980117695</td><td>159.15791324037366</td></tr>\n",
       "<tr><td>39627835563835959</td><td>6</td><td>10</td><td>20210503</td><td>87103-87104-87105</td><td>1.2934579849243164</td><td>1.3285356760025024</td><td>0.02310332842171192</td><td>1.0113979201696512</td><td>1.3766955260399305</td><td>20.934720059580915</td><td>21.89635892224586</td><td>21.00484809534235</td><td>19.119179366953055</td><td>0.4620496980117695</td><td>159.15791324037366</td></tr>\n",
       "<tr><td>39627835563836484</td><td>5</td><td>10</td><td>20210503</td><td>87103-87104-87105</td><td>1.2934579849243164</td><td>1.3285356760025024</td><td>0.02310332842171192</td><td>1.0113979201696512</td><td>1.3766955260399305</td><td>20.934720059580915</td><td>21.89635892224586</td><td>21.00484809534235</td><td>19.119179366953055</td><td>0.4620496980117695</td><td>159.15791324037366</td></tr>\n",
       "<tr><td>39627835563835560</td><td>4</td><td>10</td><td>20210503</td><td>87103-87104-87105</td><td>1.2934579849243164</td><td>1.3285356760025024</td><td>0.02310332842171192</td><td>1.0113979201696512</td><td>1.3766955260399305</td><td>20.934720059580915</td><td>21.89635892224586</td><td>21.00484809534235</td><td>19.119179366953055</td><td>0.4620496980117695</td><td>159.15791324037366</td></tr>\n",
       "<tr><td>616088587867259152</td><td>3</td><td>10</td><td>20210503</td><td>87103-87104-87105</td><td>1.2934579849243164</td><td>1.3285356760025024</td><td>0.02310332842171192</td><td>1.0113979201696512</td><td>1.3766955260399305</td><td>20.934720059580915</td><td>21.89635892224586</td><td>21.00484809534235</td><td>19.119179366953055</td><td>0.4620496980117695</td><td>159.15791324037366</td></tr>\n",
       "<tr><td>39627835563835604</td><td>2</td><td>10</td><td>20210503</td><td>87103-87104-87105</td><td>1.2934579849243164</td><td>1.3285356760025024</td><td>0.02310332842171192</td><td>1.0113979201696512</td><td>1.3766955260399305</td><td>20.934720059580915</td><td>21.89635892224586</td><td>21.00484809534235</td><td>19.119179366953055</td><td>0.4620496980117695</td><td>159.15791324037366</td></tr>\n",
       "<tr><td>39627835563835982</td><td>1</td><td>10</td><td>20210503</td><td>87103-87104-87105</td><td>1.2934579849243164</td><td>1.3285356760025024</td><td>0.02310332842171192</td><td>1.0113979201696512</td><td>1.3766955260399305</td><td>20.934720059580915</td><td>21.89635892224586</td><td>21.00484809534235</td><td>19.119179366953055</td><td>0.4620496980117695</td><td>159.15791324037366</td></tr>\n",
       "<tr><td>39627835563835820</td><td>0</td><td>10</td><td>20210503</td><td>87103-87104-87105</td><td>1.2934579849243164</td><td>1.3285356760025024</td><td>0.02310332842171192</td><td>1.0113979201696512</td><td>1.3766955260399305</td><td>20.934720059580915</td><td>21.89635892224586</td><td>21.00484809534235</td><td>19.119179366953055</td><td>0.4620496980117695</td><td>159.15791324037366</td></tr>\n",
       "</table>"
      ],
      "text/plain": [
       "<Table length=30500>\n",
       "     TARGETID      LOCATION TILEID ... MOON_ILLUMINATION     MOON_SEP_DEG   \n",
       "      int64         int64    str5  ...      float64            float64      \n",
       "------------------ -------- ------ ... ------------------ ------------------\n",
       "          -1706286     9526    338 ...              -99.0              -99.0\n",
       " 39633114246415067     9525    338 ...  0.095590784304443 118.64539430432494\n",
       " 39633114246415512     9524    338 ...  0.095590784304443 118.64539430432494\n",
       " 39633114246416060     9523    338 ...  0.095590784304443 118.64539430432494\n",
       " 39633114246416725     9522    338 ...  0.095590784304443 118.64539430432494\n",
       " 39633114246417142     9521    338 ...  0.095590784304443 118.64539430432494\n",
       " 39633114246418257     9520    338 ...  0.095590784304443 118.64539430432494\n",
       " 39633114246418602     9519    338 ...  0.095590784304443 118.64539430432494\n",
       "          -1706278     9518    338 ...              -99.0              -99.0\n",
       " 39633114242223583     9512    338 ...  0.095590784304443 118.64539430432494\n",
       "               ...      ...    ... ...                ...                ...\n",
       " 39627829524038056        9     10 ... 0.4620496980117695 159.15791324037366\n",
       " 39627829524039452        8     10 ... 0.4620496980117695 159.15791324037366\n",
       " 39627835559645813        7     10 ... 0.4620496980117695 159.15791324037366\n",
       " 39627835563835959        6     10 ... 0.4620496980117695 159.15791324037366\n",
       " 39627835563836484        5     10 ... 0.4620496980117695 159.15791324037366\n",
       " 39627835563835560        4     10 ... 0.4620496980117695 159.15791324037366\n",
       "616088587867259152        3     10 ... 0.4620496980117695 159.15791324037366\n",
       " 39627835563835604        2     10 ... 0.4620496980117695 159.15791324037366\n",
       " 39627835563835982        1     10 ... 0.4620496980117695 159.15791324037366\n",
       " 39627835563835820        0     10 ... 0.4620496980117695 159.15791324037366"
      ]
     },
     "execution_count": 70,
     "metadata": {},
     "output_type": "execute_result"
    }
   ],
   "source": [
    "condition_cat[::-1]"
   ]
  },
  {
   "cell_type": "code",
   "execution_count": 71,
   "id": "cd3eb872-86e1-495b-be09-f2f9f231243c",
   "metadata": {},
   "outputs": [
    {
     "data": {
      "text/plain": [
       "array(['', '84821', '85512', '87103-87104-87105', '87254', '89875',\n",
       "       '90406-90407', '97946-97947'], dtype='<U50')"
      ]
     },
     "execution_count": 71,
     "metadata": {},
     "output_type": "execute_result"
    }
   ],
   "source": [
    "np.unique(condition_cat['IN_EXPIDS'].data)"
   ]
  },
  {
   "cell_type": "code",
   "execution_count": 72,
   "id": "c8bddfb3-8900-44cb-bb54-55e726a362ea",
   "metadata": {},
   "outputs": [],
   "source": [
    "condition_cat.write('/global/cscratch1/sd/mjwilson/trash/tsnr/condition_cat/test_cat.fits', format='fits', overwrite=True)"
   ]
  },
  {
   "cell_type": "code",
   "execution_count": 73,
   "id": "47cc95a9-ee5c-4659-a6bf-b8b953255b8b",
   "metadata": {},
   "outputs": [],
   "source": [
    "def test_coaddprop():\n",
    "    test1=np.array([[1,2,  .5],[4,5,.5]])\n",
    "    test2=np.array([[1,2,   1],[4,5, 0]])\n",
    "    test3=np.array([[1,2,   0],[4,5, 1]])\n",
    "    test4=np.array([[1,2, .75],[4,5, .25]])\n",
    "    \n",
    "    tests=[test1, test2, test3, test4]\n",
    "\n",
    "    for i, test in enumerate(tests):\n",
    "        print('\\n\\n-------  TEST {:d}  -------'.format(i))\n",
    "        \n",
    "        test = Table(test, names=['SKYMAG', 'MOONILL', 'EFFTIME_SPEC'])\n",
    "        \n",
    "        test.pprint()\n",
    "        \n",
    "        mean_function = lambda x: np.average(x, weights=test['EFFTIME_SPEC'])\n",
    "        \n",
    "        result = test.groups.aggregate(mean_function)\n",
    "\n",
    "        print('\\n\\n-------  RESULT {:d}  -------'.format(i))\n",
    "        \n",
    "        result.pprint()"
   ]
  },
  {
   "cell_type": "code",
   "execution_count": 74,
   "id": "9ecc506b-5331-452d-b5e3-df2969a7c4d0",
   "metadata": {},
   "outputs": [
    {
     "name": "stdout",
     "output_type": "stream",
     "text": [
      "\n",
      "\n",
      "-------  TEST 0  -------\n",
      "SKYMAG MOONILL EFFTIME_SPEC\n",
      "------ ------- ------------\n",
      "   1.0     2.0          0.5\n",
      "   4.0     5.0          0.5\n",
      "\n",
      "\n",
      "-------  RESULT 0  -------\n",
      "SKYMAG MOONILL EFFTIME_SPEC\n",
      "------ ------- ------------\n",
      "   2.5     3.5          0.5\n",
      "\n",
      "\n",
      "-------  TEST 1  -------\n",
      "SKYMAG MOONILL EFFTIME_SPEC\n",
      "------ ------- ------------\n",
      "     1       2            1\n",
      "     4       5            0\n",
      "\n",
      "\n",
      "-------  RESULT 1  -------\n",
      "SKYMAG MOONILL EFFTIME_SPEC\n",
      "------ ------- ------------\n",
      "   1.0     2.0          1.0\n",
      "\n",
      "\n",
      "-------  TEST 2  -------\n",
      "SKYMAG MOONILL EFFTIME_SPEC\n",
      "------ ------- ------------\n",
      "     1       2            0\n",
      "     4       5            1\n",
      "\n",
      "\n",
      "-------  RESULT 2  -------\n",
      "SKYMAG MOONILL EFFTIME_SPEC\n",
      "------ ------- ------------\n",
      "   4.0     5.0          1.0\n",
      "\n",
      "\n",
      "-------  TEST 3  -------\n",
      "SKYMAG MOONILL EFFTIME_SPEC\n",
      "------ ------- ------------\n",
      "   1.0     2.0         0.75\n",
      "   4.0     5.0         0.25\n",
      "\n",
      "\n",
      "-------  RESULT 3  -------\n",
      "SKYMAG MOONILL EFFTIME_SPEC\n",
      "------ ------- ------------\n",
      "  1.75    2.75        0.625\n"
     ]
    }
   ],
   "source": [
    "test_coaddprop()"
   ]
  },
  {
   "cell_type": "markdown",
   "id": "6007993c-f56c-4e85-ae02-39c5b85d5b70",
   "metadata": {},
   "source": [
    "# Done."
   ]
  }
 ],
 "metadata": {
  "kernelspec": {
   "display_name": "DESI master",
   "language": "python",
   "name": "desi-master"
  },
  "language_info": {
   "codemirror_mode": {
    "name": "ipython",
    "version": 3
   },
   "file_extension": ".py",
   "mimetype": "text/x-python",
   "name": "python",
   "nbconvert_exporter": "python",
   "pygments_lexer": "ipython3",
   "version": "3.8.3"
  }
 },
 "nbformat": 4,
 "nbformat_minor": 5
}
